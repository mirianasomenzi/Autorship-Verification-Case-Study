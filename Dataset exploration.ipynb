{
 "cells": [
  {
   "cell_type": "code",
   "execution_count": 1,
   "metadata": {},
   "outputs": [],
   "source": [
    "%load_ext autoreload\n",
    "%autoreload 2\n",
    "import os"
   ]
  },
  {
   "cell_type": "code",
   "execution_count": 2,
   "metadata": {},
   "outputs": [
    {
     "name": "stdout",
     "output_type": "stream",
     "text": [
      "Defaulting to user installation because normal site-packages is not writeable\n",
      "Requirement already satisfied: multiprocess in /storagenfs/g.pisciotta1/.local/lib/python3.8/site-packages (0.70.12.2)\n",
      "Requirement already satisfied: dill>=0.3.4 in /storagenfs/g.pisciotta1/.local/lib/python3.8/site-packages (from multiprocess) (0.3.4)\n"
     ]
    },
    {
     "data": {
      "text/html": [
       "        <script type=\"text/javascript\">\n",
       "        window.PlotlyConfig = {MathJaxConfig: 'local'};\n",
       "        if (window.MathJax) {MathJax.Hub.Config({SVG: {font: \"STIX-Web\"}});}\n",
       "        if (typeof require !== 'undefined') {\n",
       "        require.undef(\"plotly\");\n",
       "        requirejs.config({\n",
       "            paths: {\n",
       "                'plotly': ['https://cdn.plot.ly/plotly-latest.min']\n",
       "            }\n",
       "        });\n",
       "        require(['plotly'], function(Plotly) {\n",
       "            window._Plotly = Plotly;\n",
       "        });\n",
       "        }\n",
       "        </script>\n",
       "        "
      ]
     },
     "metadata": {},
     "output_type": "display_data"
    },
    {
     "name": "stdout",
     "output_type": "stream",
     "text": [
      "Defaulting to user installation because normal site-packages is not writeable\n",
      "Requirement already satisfied: transformers in /usr/lib/python3.8/site-packages (4.1.1)\n",
      "Requirement already satisfied: filelock in /usr/lib/python3.8/site-packages (from transformers) (3.0.12)\n",
      "Requirement already satisfied: tqdm>=4.27 in /usr/lib/python3.8/site-packages (from transformers) (4.54.1)\n",
      "Requirement already satisfied: requests in /storagenfs/g.pisciotta1/.local/lib/python3.8/site-packages (from transformers) (2.25.1)\n",
      "Requirement already satisfied: regex!=2019.12.17 in /usr/lib/python3.8/site-packages (from transformers) (2020.11.13)\n",
      "Requirement already satisfied: sacremoses in /usr/lib/python3.8/site-packages (from transformers) (0.0.43)\n",
      "Requirement already satisfied: packaging in /usr/lib/python3.8/site-packages (from transformers) (20.9)\n",
      "Requirement already satisfied: tokenizers==0.9.4 in /usr/lib/python3.8/site-packages (from transformers) (0.9.4)\n",
      "Requirement already satisfied: numpy in /usr/local/lib/python3.8/dist-packages (from transformers) (1.19.5)\n",
      "Requirement already satisfied: pyparsing>=2.0.2 in /usr/lib/python3/dist-packages (from packaging->transformers) (2.4.6)\n",
      "Requirement already satisfied: chardet<5,>=3.0.2 in /usr/lib/python3/dist-packages (from requests->transformers) (3.0.4)\n",
      "Requirement already satisfied: urllib3<1.27,>=1.21.1 in /usr/lib/python3/dist-packages (from requests->transformers) (1.25.8)\n",
      "Requirement already satisfied: idna<3,>=2.5 in /usr/lib/python3/dist-packages (from requests->transformers) (2.8)\n",
      "Requirement already satisfied: certifi>=2017.4.17 in /usr/lib/python3/dist-packages (from requests->transformers) (2019.11.28)\n",
      "Requirement already satisfied: joblib in /usr/lib/python3.8/site-packages (from sacremoses->transformers) (1.0.0)\n",
      "Requirement already satisfied: click in /usr/lib/python3/dist-packages (from sacremoses->transformers) (7.0)\n",
      "Requirement already satisfied: six in /usr/local/lib/python3.8/dist-packages (from sacremoses->transformers) (1.15.0)\n"
     ]
    },
    {
     "name": "stderr",
     "output_type": "stream",
     "text": [
      "[nltk_data] Downloading package punkt to\n",
      "[nltk_data]     /storagenfs/g.pisciotta1/nltk_data...\n",
      "[nltk_data]   Package punkt is already up-to-date!\n"
     ]
    },
    {
     "data": {
      "text/plain": [
       "True"
      ]
     },
     "execution_count": 2,
     "metadata": {},
     "output_type": "execute_result"
    }
   ],
   "source": [
    "#!pip3 install pytorch\n",
    "!pip3 install multiprocess\n",
    "import torch\n",
    "torch.cuda.empty_cache()\n",
    "\n",
    "#!pip3 install sentence-transformers\n",
    "from sentence_transformers import SentenceTransformer\n",
    "from sentence_transformers import CrossEncoder\n",
    "from sentence_transformers.cross_encoder.evaluation import CECorrelationEvaluator, CEBinaryClassificationEvaluator\n",
    "from torch.utils.data import DataLoader\n",
    "import math\n",
    "import plotly\n",
    "import plotly.graph_objs as go\n",
    "import plotly.io as pio\n",
    "plotly.offline.init_notebook_mode(connected=True)\n",
    "import multiprocess as multiprocessing\n",
    "from sentence_transformers import LoggingHandler, util\n",
    "from sentence_transformers.cross_encoder import CrossEncoder\n",
    "from sentence_transformers.cross_encoder.evaluation import CECorrelationEvaluator\n",
    "from sentence_transformers import InputExample\n",
    "import logging\n",
    "!pip3 install transformers\n",
    "import json\n",
    "import pickle\n",
    "import numpy as np\n",
    "from tqdm.notebook import trange, tqdm\n",
    "from sklearn.preprocessing import StandardScaler\n",
    "from sklearn.linear_model import LogisticRegression, SGDClassifier\n",
    "from sklearn.metrics import precision_recall_curve\n",
    "from sklearn.metrics import roc_curve, auc\n",
    "from writeprints import get_writeprints_transformer, prepare_entry\n",
    "from utills import batch\n",
    "from pytorch_models import NeuralNet\n",
    "import torch\n",
    "import torch.nn as nn\n",
    "from torch.utils import data\n",
    "import copy\n",
    "from sklearn.model_selection import RandomizedSearchCV\n",
    "from scipy.stats import uniform\n",
    "from transformers import BertTokenizerFast\n",
    "import datetime\n",
    "import time\n",
    "from pan20_verif_evaluator import evaluate_all\n",
    "import nltk\n",
    "nltk.download('punkt')"
   ]
  },
  {
   "cell_type": "code",
   "execution_count": 3,
   "metadata": {},
   "outputs": [],
   "source": [
    "# Constants\n",
    "DATA_DIR = 'data/small/'\n",
    "TEMP_DATA_DIR = 'temp_data/pan20_computed/'"
   ]
  },
  {
   "cell_type": "markdown",
   "metadata": {},
   "source": [
    "Load ground truth\n",
    "===="
   ]
  },
  {
   "cell_type": "code",
   "execution_count": 4,
   "metadata": {},
   "outputs": [
    {
     "data": {
      "application/vnd.jupyter.widget-view+json": {
       "model_id": "5aa443d07ddd430c8322d89822b8e8ac",
       "version_major": 2,
       "version_minor": 0
      },
      "text/plain": [
       "HBox(children=(HTML(value=''), FloatProgress(value=1.0, bar_style='info', layout=Layout(width='20px'), max=1.0…"
      ]
     },
     "metadata": {},
     "output_type": "display_data"
    },
    {
     "name": "stdout",
     "output_type": "stream",
     "text": [
      "\n",
      "52601 27834 24767\n"
     ]
    }
   ],
   "source": [
    "# Load gound truth\n",
    "ground_truth = {}\n",
    "partition = {}\n",
    "\n",
    "#tot = 52601/3\n",
    "limited = False\n",
    "tot = 20000\n",
    "n_of_pos_we_want = tot/2\n",
    "n_of_neg_we_want = tot/2\n",
    "# quindi in totale 1_000\n",
    "\n",
    "positive_samples = 0\n",
    "negative_samples = 0\n",
    "total = 0\n",
    "\n",
    "# Qui apriamo il dataset e estraiamo un totale di 10k esempi del task\n",
    "with open(DATA_DIR + '/pan20-authorship-verification-training-small-truth.jsonl', 'r') as f:\n",
    "    \n",
    "    for counter, l in tqdm(enumerate(f)):\n",
    "        total += 1\n",
    "        \n",
    "        d = json.loads(l)\n",
    "\n",
    "        if d['same']:# and positive_samples < n_of_pos_we_want : # se la label è true e dobbiamo ancora aggiungerne\n",
    "            ground_truth[d['id']] = d['same']\n",
    "            positive_samples += 1\n",
    "        elif not d['same']:# and negative_samples < n_of_neg_we_want:\n",
    "            ground_truth[d['id']] = d['same']\n",
    "            negative_samples += 1\n",
    "            \n",
    "        # Una volta che abbiamo raggiunto il numero di dati che vogliamo, è fatta, usciamo\n",
    "        #if limited and (positive_samples == n_of_pos_we_want and negative_samples == n_of_neg_we_want):\n",
    "        #    break\n",
    "            \n",
    "print(total, positive_samples, negative_samples)"
   ]
  },
  {
   "cell_type": "markdown",
   "metadata": {},
   "source": [
    "Partially extract features\n",
    "==="
   ]
  },
  {
   "cell_type": "code",
   "execution_count": 25,
   "metadata": {},
   "outputs": [
    {
     "name": "stdout",
     "output_type": "stream",
     "text": [
      "Started handling of each pair\n",
      "Ended handling of each pair\n",
      "Time spent:  36.083156\n"
     ]
    }
   ],
   "source": [
    "samples = multiprocessing.Manager().Queue()\n",
    "\n",
    "from sklearn.model_selection import train_test_split                 \n",
    "def process_pair(l):\n",
    "    d = json.loads(l)\n",
    "    if d['id'] in ground_truth:\n",
    "        #e1 = prepare_entry(d['pair'][0])\n",
    "        #e2 = prepare_entry(d['pair'][1])\n",
    "        e1 = d['pair'][0]\n",
    "        e2 = d['pair'][1]\n",
    "        samples.put({'id': d['id'], 'doc1': e1, 'doc2': e2})\n",
    "        return {'id': d['id'], 'doc1':e1, 'doc2':e2}    \n",
    "\n",
    "\n",
    "start_time = datetime.datetime.now()\n",
    "print(\"Started handling of each pair\")\n",
    "with open(DATA_DIR + 'pan20-authorship-verification-training-small.jsonl', 'r') as f:\n",
    "    with multiprocessing.Pool() as pool:\n",
    "        samples = pool.map(process_pair, (l for l in f))\n",
    "print(\"Ended handling of each pair\")        \n",
    "\n",
    "end_time = datetime.datetime.now()\n",
    "print(\"Time spent: \", (end_time-start_time).total_seconds())\n",
    "\n",
    "\n"
   ]
  },
  {
   "cell_type": "markdown",
   "metadata": {},
   "source": [
    "Split dataset\n",
    "====="
   ]
  },
  {
   "cell_type": "code",
   "execution_count": 26,
   "metadata": {},
   "outputs": [],
   "source": [
    "labels = []\n",
    "\n",
    "# Il processo in parallelo restituisce comunque eventualmente dei None se \n",
    "# il sample non appartiene alla lista di quelli che abbiamo selezionato,\n",
    "# quindi nel caso rimuoviamo i None così\n",
    "samples = [i for i in samples if i is not None]\n",
    "\n",
    "for s in samples:\n",
    "    # Qui non dovrebbe arrivare\n",
    "    if s is None:\n",
    "        print(\"None\")\n",
    "        break\n",
    "        \n",
    "    # Questo dovrebbe essere il caso normale\n",
    "    else:\n",
    "        s['label'] = int(ground_truth[s['id']])\n",
    "\n",
    "import pandas as pd\n",
    "df = pd.DataFrame(samples)\n",
    "df = df.set_index('id')\n",
    "\n",
    "X_design, X_test, y_design, y_test = train_test_split(df, df['label'], stratify=df['label'], random_state=42)\n",
    "X_train, X_valid, y_train, y_valid = train_test_split(X_design, y_design, stratify=y_design, random_state=42)\n",
    "\n",
    "# Per salvare\n",
    "X_test.to_pickle(TEMP_DATA_DIR+\"x_test.pkl\")\n",
    "X_valid.to_pickle(TEMP_DATA_DIR+\"x_valid.pkl\")\n",
    "X_train.to_pickle(TEMP_DATA_DIR+\"x_train.pkl\")\n",
    "df.to_pickle(TEMP_DATA_DIR+\"df.pkl\")\n",
    "df.to_pickle('permiriana.pkl')"
   ]
  },
  {
   "cell_type": "code",
   "execution_count": 29,
   "metadata": {},
   "outputs": [
    {
     "data": {
      "text/html": [
       "<div>\n",
       "<style scoped>\n",
       "    .dataframe tbody tr th:only-of-type {\n",
       "        vertical-align: middle;\n",
       "    }\n",
       "\n",
       "    .dataframe tbody tr th {\n",
       "        vertical-align: top;\n",
       "    }\n",
       "\n",
       "    .dataframe thead th {\n",
       "        text-align: right;\n",
       "    }\n",
       "</style>\n",
       "<table border=\"1\" class=\"dataframe\">\n",
       "  <thead>\n",
       "    <tr style=\"text-align: right;\">\n",
       "      <th></th>\n",
       "      <th>doc1</th>\n",
       "      <th>doc2</th>\n",
       "      <th>label</th>\n",
       "    </tr>\n",
       "    <tr>\n",
       "      <th>id</th>\n",
       "      <th></th>\n",
       "      <th></th>\n",
       "      <th></th>\n",
       "    </tr>\n",
       "  </thead>\n",
       "  <tbody>\n",
       "    <tr>\n",
       "      <th>6cced668-6e51-5212-873c-717f2bc91ce6</th>\n",
       "      <td>I shift a bit, warily letting my eyes dart fro...</td>\n",
       "      <td>\"All will become one with Russia,\" he said, al...</td>\n",
       "      <td>1</td>\n",
       "    </tr>\n",
       "    <tr>\n",
       "      <th>3c6c188a-db28-59aa-8c09-3d0f799ff579</th>\n",
       "      <td>I shift a bit, warily letting my eyes dart fro...</td>\n",
       "      <td>Suddenly, a piece of ice falls into the pit of...</td>\n",
       "      <td>1</td>\n",
       "    </tr>\n",
       "    <tr>\n",
       "      <th>b0cfa94f-c9ec-5aa5-8331-a5a249b664cf</th>\n",
       "      <td>A single tear escaped me as I left. I did have...</td>\n",
       "      <td>got the Yang yoyo.\" Kimiko pulled the other ha...</td>\n",
       "      <td>1</td>\n",
       "    </tr>\n",
       "    <tr>\n",
       "      <th>e6e86e73-9a7b-58f2-a652-a17b4a1bcabf</th>\n",
       "      <td>\"Ja.\" Ludwig kept his gaze upon her, solidly. ...</td>\n",
       "      <td>SilverGray lll...YellowRagged llll...GrayMilli...</td>\n",
       "      <td>1</td>\n",
       "    </tr>\n",
       "    <tr>\n",
       "      <th>4fe541af-912e-5a86-81a5-94c6d3891509</th>\n",
       "      <td>And he did. Slowly, hesitantly...but coming fr...</td>\n",
       "      <td>\"Let\"s go,\" Raimondo said and then started in ...</td>\n",
       "      <td>1</td>\n",
       "    </tr>\n",
       "    <tr>\n",
       "      <th>...</th>\n",
       "      <td>...</td>\n",
       "      <td>...</td>\n",
       "      <td>...</td>\n",
       "    </tr>\n",
       "    <tr>\n",
       "      <th>3926a1bd-6d33-5513-a694-12d7590443d4</th>\n",
       "      <td>Enjoy! And time stands still beneath the air o...</td>\n",
       "      <td>\"That a challenge, dick?\" Austin smirks back a...</td>\n",
       "      <td>0</td>\n",
       "    </tr>\n",
       "    <tr>\n",
       "      <th>17227d87-a3cb-5aca-b5fd-bb642e88b030</th>\n",
       "      <td>\"I forgive you,\" she blurted out looking strai...</td>\n",
       "      <td>This is a KNB fanfic. KNB doesn\"t belong to me...</td>\n",
       "      <td>0</td>\n",
       "    </tr>\n",
       "    <tr>\n",
       "      <th>0332dcaa-7230-508b-badb-820f9d8eebaa</th>\n",
       "      <td>\"What? Why? What\"s happening? Where are we goi...</td>\n",
       "      <td>At the moment, Chris\" position on the swing se...</td>\n",
       "      <td>0</td>\n",
       "    </tr>\n",
       "    <tr>\n",
       "      <th>f5e4884a-13fd-51fb-a880-053d6655d59a</th>\n",
       "      <td>\"Gah!\" I growled. \"I need a password to access...</td>\n",
       "      <td>As you can see a lot of things has happened si...</td>\n",
       "      <td>0</td>\n",
       "    </tr>\n",
       "    <tr>\n",
       "      <th>900c4a19-e22b-59fd-9cc7-8490919b1696</th>\n",
       "      <td>Chica heard a noise below her and saw Golden F...</td>\n",
       "      <td>\"I\"m fine. It\"s just . . . I can\"t believe Dal...</td>\n",
       "      <td>0</td>\n",
       "    </tr>\n",
       "  </tbody>\n",
       "</table>\n",
       "<p>52601 rows × 3 columns</p>\n",
       "</div>"
      ],
      "text/plain": [
       "                                                                                   doc1  \\\n",
       "id                                                                                        \n",
       "6cced668-6e51-5212-873c-717f2bc91ce6  I shift a bit, warily letting my eyes dart fro...   \n",
       "3c6c188a-db28-59aa-8c09-3d0f799ff579  I shift a bit, warily letting my eyes dart fro...   \n",
       "b0cfa94f-c9ec-5aa5-8331-a5a249b664cf  A single tear escaped me as I left. I did have...   \n",
       "e6e86e73-9a7b-58f2-a652-a17b4a1bcabf  \"Ja.\" Ludwig kept his gaze upon her, solidly. ...   \n",
       "4fe541af-912e-5a86-81a5-94c6d3891509  And he did. Slowly, hesitantly...but coming fr...   \n",
       "...                                                                                 ...   \n",
       "3926a1bd-6d33-5513-a694-12d7590443d4  Enjoy! And time stands still beneath the air o...   \n",
       "17227d87-a3cb-5aca-b5fd-bb642e88b030  \"I forgive you,\" she blurted out looking strai...   \n",
       "0332dcaa-7230-508b-badb-820f9d8eebaa  \"What? Why? What\"s happening? Where are we goi...   \n",
       "f5e4884a-13fd-51fb-a880-053d6655d59a  \"Gah!\" I growled. \"I need a password to access...   \n",
       "900c4a19-e22b-59fd-9cc7-8490919b1696  Chica heard a noise below her and saw Golden F...   \n",
       "\n",
       "                                                                                   doc2  \\\n",
       "id                                                                                        \n",
       "6cced668-6e51-5212-873c-717f2bc91ce6  \"All will become one with Russia,\" he said, al...   \n",
       "3c6c188a-db28-59aa-8c09-3d0f799ff579  Suddenly, a piece of ice falls into the pit of...   \n",
       "b0cfa94f-c9ec-5aa5-8331-a5a249b664cf  got the Yang yoyo.\" Kimiko pulled the other ha...   \n",
       "e6e86e73-9a7b-58f2-a652-a17b4a1bcabf  SilverGray lll...YellowRagged llll...GrayMilli...   \n",
       "4fe541af-912e-5a86-81a5-94c6d3891509  \"Let\"s go,\" Raimondo said and then started in ...   \n",
       "...                                                                                 ...   \n",
       "3926a1bd-6d33-5513-a694-12d7590443d4  \"That a challenge, dick?\" Austin smirks back a...   \n",
       "17227d87-a3cb-5aca-b5fd-bb642e88b030  This is a KNB fanfic. KNB doesn\"t belong to me...   \n",
       "0332dcaa-7230-508b-badb-820f9d8eebaa  At the moment, Chris\" position on the swing se...   \n",
       "f5e4884a-13fd-51fb-a880-053d6655d59a  As you can see a lot of things has happened si...   \n",
       "900c4a19-e22b-59fd-9cc7-8490919b1696  \"I\"m fine. It\"s just . . . I can\"t believe Dal...   \n",
       "\n",
       "                                      label  \n",
       "id                                           \n",
       "6cced668-6e51-5212-873c-717f2bc91ce6      1  \n",
       "3c6c188a-db28-59aa-8c09-3d0f799ff579      1  \n",
       "b0cfa94f-c9ec-5aa5-8331-a5a249b664cf      1  \n",
       "e6e86e73-9a7b-58f2-a652-a17b4a1bcabf      1  \n",
       "4fe541af-912e-5a86-81a5-94c6d3891509      1  \n",
       "...                                     ...  \n",
       "3926a1bd-6d33-5513-a694-12d7590443d4      0  \n",
       "17227d87-a3cb-5aca-b5fd-bb642e88b030      0  \n",
       "0332dcaa-7230-508b-badb-820f9d8eebaa      0  \n",
       "f5e4884a-13fd-51fb-a880-053d6655d59a      0  \n",
       "900c4a19-e22b-59fd-9cc7-8490919b1696      0  \n",
       "\n",
       "[52601 rows x 3 columns]"
      ]
     },
     "execution_count": 29,
     "metadata": {},
     "output_type": "execute_result"
    }
   ],
   "source": [
    "df"
   ]
  },
  {
   "cell_type": "code",
   "execution_count": 5,
   "metadata": {},
   "outputs": [
    {
     "name": "stderr",
     "output_type": "stream",
     "text": [
      "<ipython-input-5-cb0fccdfb0a6>:4: SettingWithCopyWarning:\n",
      "\n",
      "\n",
      "A value is trying to be set on a copy of a slice from a DataFrame.\n",
      "Try using .loc[row_indexer,col_indexer] = value instead\n",
      "\n",
      "See the caveats in the documentation: https://pandas.pydata.org/pandas-docs/stable/user_guide/indexing.html#returning-a-view-versus-a-copy\n",
      "\n"
     ]
    }
   ],
   "source": [
    "import pandas as pd\n",
    "df = pd.read_pickle('permiriana.pkl')\n",
    "df1 = df[['doc1']]\n",
    "df1['doc1'] = df1['doc1'].str.lower()\n",
    "df1 = df1.drop_duplicates()\n"
   ]
  },
  {
   "cell_type": "code",
   "execution_count": 6,
   "metadata": {},
   "outputs": [],
   "source": [
    "\n",
    "doc1 = df1['doc1'].str.cat(sep='. ')\n"
   ]
  },
  {
   "cell_type": "code",
   "execution_count": 7,
   "metadata": {},
   "outputs": [],
   "source": [
    "from nltk.tokenize import word_tokenize\n",
    "wordlists = word_tokenize(doc1)"
   ]
  },
  {
   "cell_type": "code",
   "execution_count": 8,
   "metadata": {},
   "outputs": [
    {
     "data": {
      "text/plain": [
       "0.010869295430944228"
      ]
     },
     "execution_count": 8,
     "metadata": {},
     "output_type": "execute_result"
    }
   ],
   "source": [
    "\n",
    "from nltk.probability import FreqDist\n",
    "fdist = FreqDist(wordlists)\n",
    "fdist\n",
    "\n",
    "fdist.freq('she')\n"
   ]
  },
  {
   "cell_type": "code",
   "execution_count": 21,
   "metadata": {},
   "outputs": [
    {
     "name": "stderr",
     "output_type": "stream",
     "text": [
      "[nltk_data] Downloading package stopwords to\n",
      "[nltk_data]     /storagenfs/g.pisciotta1/nltk_data...\n",
      "[nltk_data]   Package stopwords is already up-to-date!\n"
     ]
    },
    {
     "data": {
      "image/png": "[encoded data removed]",
      "text/plain": [
       "<Figure size 432x288 with 1 Axes>"
      ]
     },
     "metadata": {
      "needs_background": "light"
     },
     "output_type": "display_data"
    },
    {
     "data": {
      "text/plain": [
       "<AxesSubplot:title={'center':'Frequency distribution for 30 most common tokens in our text collection (excluding stopwords and punctuation)'}, xlabel='Samples', ylabel='Counts'>"
      ]
     },
     "execution_count": 21,
     "metadata": {},
     "output_type": "execute_result"
    }
   ],
   "source": [
    "import string\n",
    "nltk.download('stopwords')\n",
    "from nltk.corpus import stopwords\n",
    "remove_these = set(stopwords.words('english') + list(string.punctuation) + list(string.digits) + [\"...\", \"``\",\"''\"])\n",
    "filtered_text = [w for w in wordlists if not w in remove_these]\n",
    "fdist_filtered = FreqDist(filtered_text)\n",
    "fdist_filtered.plot(30,title='Frequency distribution for 30 most common tokens in our text collection (excluding stopwords and punctuation)')\n",
    "\n"
   ]
  },
  {
   "cell_type": "code",
   "execution_count": 40,
   "metadata": {},
   "outputs": [
    {
     "data": {
      "image/png": "[encoded data removed]",
      "text/plain": [
       "<Figure size 432x288 with 1 Axes>"
      ]
     },
     "metadata": {
      "needs_background": "light"
     },
     "output_type": "display_data"
    },
    {
     "data": {
      "text/plain": [
       "<AxesSubplot:title={'center':'Pronouns frequency distribution'}, xlabel='Samples', ylabel='Counts'>"
      ]
     },
     "execution_count": 40,
     "metadata": {},
     "output_type": "execute_result"
    }
   ],
   "source": [
    "filtered_text_with_pronouns = [w for w in wordlists if w in ['we', 'us', 'you', 'they', 'she', 'he', 'them']]\n",
    "fdist_filtered = FreqDist(filtered_text_with_pronouns)\n",
    "fdist_filtered.plot(30,title='Pronouns frequency distribution')"
   ]
  },
  {
   "cell_type": "code",
   "execution_count": 41,
   "metadata": {},
   "outputs": [
    {
     "data": {
      "image/png": "[encoded data removed]",
      "text/plain": [
       "<Figure size 432x288 with 1 Axes>"
      ]
     },
     "metadata": {
      "needs_background": "light"
     },
     "output_type": "display_data"
    },
    {
     "data": {
      "text/plain": [
       "<AxesSubplot:title={'center':'Pronouns frequency distribution'}, xlabel='Samples', ylabel='Counts'>"
      ]
     },
     "execution_count": 41,
     "metadata": {},
     "output_type": "execute_result"
    }
   ],
   "source": [
    "filtered_text_with_pronouns = [w for w in wordlists if w in ['we', 'us', 'they', 'she', 'he', 'them']]\n",
    "fdist_filtered = FreqDist(filtered_text_with_pronouns)\n",
    "fdist_filtered.plot(30,title='Pronouns frequency distribution')"
   ]
  },
  {
   "cell_type": "code",
   "execution_count": 82,
   "metadata": {},
   "outputs": [
    {
     "data": {
      "text/html": [
       "<div>\n",
       "<style scoped>\n",
       "    .dataframe tbody tr th:only-of-type {\n",
       "        vertical-align: middle;\n",
       "    }\n",
       "\n",
       "    .dataframe tbody tr th {\n",
       "        vertical-align: top;\n",
       "    }\n",
       "\n",
       "    .dataframe thead th {\n",
       "        text-align: right;\n",
       "    }\n",
       "</style>\n",
       "<table border=\"1\" class=\"dataframe\">\n",
       "  <thead>\n",
       "    <tr style=\"text-align: right;\">\n",
       "      <th></th>\n",
       "      <th>doc 1</th>\n",
       "      <th>doc 2</th>\n",
       "      <th>same author</th>\n",
       "      <th>fandom</th>\n",
       "    </tr>\n",
       "  </thead>\n",
       "  <tbody>\n",
       "    <tr>\n",
       "      <th>0</th>\n",
       "      <td>I shift a bit, warily letting my eyes dart fro...</td>\n",
       "      <td>\"All will become one with Russia,\" he said, al...</td>\n",
       "      <td>True</td>\n",
       "      <td>Guardians of Ga'Hoole, Hetalia - Axis Powers</td>\n",
       "    </tr>\n",
       "    <tr>\n",
       "      <th>1</th>\n",
       "      <td>\"Told you.\" Jay walked over to the group of si...</td>\n",
       "      <td>smiled then whispered, \"Can never say no to Ma...</td>\n",
       "      <td>False</td>\n",
       "      <td>Hocus Pocus, Boondock Saints</td>\n",
       "    </tr>\n",
       "  </tbody>\n",
       "</table>\n",
       "</div>"
      ],
      "text/plain": [
       "                                               doc 1  \\\n",
       "0  I shift a bit, warily letting my eyes dart fro...   \n",
       "1  \"Told you.\" Jay walked over to the group of si...   \n",
       "\n",
       "                                               doc 2  same author  \\\n",
       "0  \"All will become one with Russia,\" he said, al...         True   \n",
       "1  smiled then whispered, \"Can never say no to Ma...        False   \n",
       "\n",
       "                                         fandom  \n",
       "0  Guardians of Ga'Hoole, Hetalia - Axis Powers  \n",
       "1                  Hocus Pocus, Boondock Saints  "
      ]
     },
     "metadata": {},
     "output_type": "display_data"
    },
    {
     "name": "stdout",
     "output_type": "stream",
     "text": [
      "\\begin{tabular}{lllll}\n",
      "\\toprule\n",
      "{} &                                              doc 1 &                                              doc 2 &  same author &                                        fandom \\\\\n",
      "\\midrule\n",
      "0 &  I shift a bit, warily letting my eyes dart fro... &  \"All will become one with Russia,\" he said, al... &         True &  Guardians of Ga'Hoole, Hetalia - Axis Powers \\\\\n",
      "1 &  \"Told you.\" Jay walked over to the group of si... &  smiled then whispered, \"Can never say no to Ma... &        False &                  Hocus Pocus, Boondock Saints \\\\\n",
      "\\bottomrule\n",
      "\\end{tabular}\n",
      "\n",
      "dict_keys(['id', 'same', 'authors'])\n"
     ]
    }
   ],
   "source": [
    "i=0\n",
    "t1s = []\n",
    "t2s = []\n",
    "grounds = []\n",
    "fandoms = []\n",
    "previous_ground = -1\n",
    "\n",
    "with open(DATA_DIR + 'pan20-authorship-verification-training-small.jsonl', 'r') as f:\n",
    "    for l in f:\n",
    "        d = json.loads(l)\n",
    "\n",
    "        ground = ground_truth[d['id']]\n",
    "         \n",
    "        if previous_ground == -1 or ground != previous_ground:\n",
    "            previous_ground = ground\n",
    "            t1 = \" \".join(d['pair'][0].split(\" \")[:50])+\" [...]\"\n",
    "            t2 = \" \".join(d['pair'][1].split(\" \")[:50])+\" [...]\"\n",
    "            t1s.append(t1)\n",
    "            t2s.append(t2)\n",
    "            grounds.append(ground)\n",
    "            fandoms.append(\", \".join(d['fandoms']))\n",
    "            if i > 5:\n",
    "                break\n",
    "            i+=1\n",
    "\n",
    "minidf = pd.DataFrame({'doc 1':t1s, 'doc 2':t2s, 'same author': grounds, 'fandom': fandoms})\n",
    "display(minidf)\n",
    "print(minidf.to_latex())\n",
    "\n",
    "with open(DATA_DIR + '/pan20-authorship-verification-training-small-truth.jsonl', 'r') as f:\n",
    "    \n",
    "    for l in f:\n",
    "        d = json.loads(l)\n",
    "        print(d.keys())\n",
    "        if len(set(d['authors']))>2 :\n",
    "               print(d['authors'])\n",
    "        break\n",
    "        \n"
   ]
  },
  {
   "cell_type": "code",
   "execution_count": null,
   "metadata": {},
   "outputs": [],
   "source": []
  },
  {
   "cell_type": "code",
   "execution_count": 22,
   "metadata": {},
   "outputs": [
    {
     "name": "stdout",
     "output_type": "stream",
     "text": [
      "dict_keys(['id', 'fandoms', 'pair'])\n",
      "{'id': '6cced668-6e51-5212-873c-717f2bc91ce6', 'fandoms': [\"Guardians of Ga'Hoole\", 'Hetalia - Axis Powers'], 'pair': ['I shift a bit, warily letting my eyes dart from one owl to the other -- but my eyes are trained on the Barn Owl the most. Like Hoole...so like Hoole... He turns a bit, and our eyes meet directly. I can\"t describe it...in this next moment, I don\"t look away, how awkward it seems. I stare into his eyes. They\"re like Hoole\"s... They are Barn Owl eyes, but Hoole\"s eyes. They\"re his eyes...Hoole\"s eyes... They hold that light of valor, justice, that one glow that I always made me feel my gizzard twitch in the bottom of my heart. Hoole... He never wanted me, did he? He loved me, but only who I was pretending to be. He never loved me, only Emerilla...lucky owl. I just wanted to belong -- because I was nothing -- and he gave me that. He was so fair, so kind...he gave me something even Kreeth could not. Mum and Da -- Ygryk and Pleek -- were supposed to be my parents. I was supposed to be their chick, Lutta. Yet they left me. They talked about me behind my back...I was a freak. My own parents loathed me. Oh, they tried, but they left in the end. They didn\"t love me. Kreeth used me. No one really loved me, or even looked at me normally. All I was was a freak, nothing at all. Then he came along. Him, Hoole. The only one who let me belong, looked at me with kindness in his gaze, not looking like I was a...monster... Why was I born? Not one person cared about me. I was just freak my parents didn\"t want, a weapon for auntie\"s uses, and a fake to my only love. He cared, but didn\"t know me. In the end, I was a monster to him too. Now I\"m back. And now I wonder... I suddenly stiffen as I think up to a thought. \"What happened?\" I shoot up and stare into those kind eyes. I trust him to answer. \"Please, who are you? Where am I? Where\"s...Where\"s\"--I choke up, but the question is already on my tongue--\"Hoole?\" My talons clench as the name leaves me. At once, I see sympathy clearly written over their faces. A pang enters my heart. Sympathy for me? A nothing? \"Lutta.\" Sweet words again, and I suddenly wonder how this Barn Owl knows my name. \"It\"s hard to explain, but please...\" \"Listen carefully.\" Everyone, including me, jumps as the Great Gray speaks -- in a rather booming voice -- for the first time. The Elf Owl frowns at him. The older Barn Owl gives him a quick nudge. Words tumble from the young Barn Owl\"s beak. \"Lutta, we read about you in legends. It\"s been a long time since you were... \"Well, you\"re at the Great Ga\"Hoole Tree, and it\"s been a long time since you were...\" His voice dies down as he hesitates. \"Dead,\" the older Barn Owl finishes. He says it with that sympathy shown in his eyes. \"It\"s been thousands of years from your time, and we read about you from some legends about some...events...\" He clears his throat, determined to go on. \"Coryn here\"--a gesture at the young Barn Owl--\"is the king. I\"m his uncle, Soren. This is Gylfie\"--a gesture at the Elf Owl, who nods in greeting--\"Twilight,\" the Great Gray, \"and Digger\"--what a funny looking Burrowing Owl. \"My uncle and his friends are called the Band,\" Coryn adds. I let this newfound information seep in. Thousands of years? Could this be possible? I was dead, right? It\"s been so long -- and...I was dead? How...? \"I have a GIZZARD!\" \"You do not have a gizzard, you fool! you idiot! I created you.\" \"You created me, but I created this gizzard!\" \"No!\" What is this? \"Emerilla?\" He turns as I change. He knows now...what am I to do? Dismay spreads through my body. He\"ll probably think I\"m a freak too, and he\"ll hate me. But I love him! In the next second, I\"m flying at him. Adrenline floods me as I feel...am I losing myself? This gref... He\"ll hate me now. I slam into him, and he flies backward. \"I love you!\" I want to scream. I want to scream those three words. To let him understand. I want to scream, \"I love you!\" Then, an enexpected blow to the back of my head. Pain. Unexpected pain. Then talons, stopping me in my tracks. Talons...digging into me, slashing everywhere. My vision spins to red. I\"m being ripped apart at the seams. Torn. No... Why are you...? I sink, and I fall apart, literally. My feathers fall off, as my body becomes a lump of darkness. A lump of feathers. I truly am nothing... You\"d expect a real body when one is torn by claws -- and yet...feathers only. My phantom gizzard lurches. \"Half-hags!\" \"I had to kill her.\" WHY? \"She pretended to be my Emerilla.\" Is that all! I\"m going to die like this! Just because I was an imposter! \"I knew from the start that something was not right about her. A blood deception she was -- a hagsfiend.\" Anger -- hot, seeping rage enters me. And cold feelings. Feeling that make me want to shed tears. \"No!\" I manage. \"Who are you?\" Who? Hoole...you accept me as someone? Hoole... \"I am nothing...and yet, I loved...\" I loved... \"Lutta?\" \"Hey! Are you all right?\" \"What\"s wrong? Lutta!\" I sink down as my mind spins. Then, I black out. All was dark except for the fluttering movement of wings -- brown wings. A Barn Owl shifted in the branches of the magnificent tree, her dark eyes gleaming as she looked into the hollow. How strange that she could get so close to the tree so easily. She was but a sillhouette against the branched skies. She eyed the hollow, and the inhabitants. Her son...too bad she would have to kill him. He would have made a fine pure owl, had he not inherited his uncle\"s stupid softness. She could just kill him, right there and then. How easy, that everything she had been working for for the last few months would just be completed now, so easily. She could easily snatch the ember, then swoop in and kill Coryn, his disgraceful uncle, and get her dear mate\"s -- rest his soul -- revenge. Then, kill those pathetic owls that were always around Soren, and anyone else she comes across in the tree, just for a bonus. It would be wonderful to see their pained, stupefied faces as she sank her claws through their feathers, one by one. Then she saw the hagsfiend, and her eyes widened in horror. I am the last! How is this possible? Why is she in that hollow! She could just kill her as well -- but her eyes caught something, and her gizzard twitched. No...she\"ll just stay back and observe. This hagsfiend could prove some use to her and... Sadistic impulse shot through Nyra\"s gizzard. The adoring gleam in the hagsfiend\"s eye as she stared at Nyroc. No, she\"ll wait. Nyra silently spread her wings and swooped into the night sky. She had plotting to do. PT: Please, enjoy :) I hope I can fill up some holes in the story as soon as I can. Though, they\"re there for suspense. Please review! Nothing, Yet A Love Never Dying PT: THANKS SO MUCH FOR READING, EVERYONE!! Enjoy! I have a little more to say: I know the last book already came out, and I\"ve finished it already. I\"m a little stunned, but in courtesy of those who have not yet finished it, I won\"t spoil it. However, despite the end, I\"m continuing the fic the way it is. I\"ve just noticed how much I\"ve been neglecting the story O.o Anyways, I was rather...displeased with a few stories stuck in the GoGH fandom, and while I was planning to leave it after finishing this fic, I might a few more fics for this. Not that I have hubris...I just...don\"t know...I just think I\"ll contribute to the fandom with a few fics of angst :D Anani Mouse Thank you, thank you so much :D -Head swells- Frosted Fate Yeah, poor Lutta D: Wish Hoole ended up with her. One of the Populace Oh...-sobs- Hi! :D FlamingSerpent Thanks! I\"m flattered x) True, Nyra\"s so important to the plot -- being sadistic and plotting revenge, among other things :) Hawkrain I\"m glad you\"re eager :D Thanks for reviewing and liking it! :) Lara-Van Thank you, thank you -bows- X) It\"s great that you think that; cheered me right up ;) The Great Tree I can make them hurt... My Mum and Da. I can make them feel the pain that they\"ve put on me. They can hurt, and I\"d be able to do it to them. A change in our positions is want I want so badly, and they\"d taste the bile they stuck in my throat. They left me...they left me, their chick Lutta. Theirs. I have the power now -- to make them hurt. I can make them hurt. I can make them hurt... \"Lutta!\" Stop slapping me. \"Lutta, wake up!\" Slap. Stop slapping me with your wing, it stings. Slap. Slap. \"WAKE UP, Lutta.\" Slap. Slap. Stop it! I\"m trying to-- \"Lutta, please!\" ...Hoole? Hoole\"s voice! I flick my eyelids open -- all four of them -- at the same time. Hoole? No, it\"s Coryn. Just Coryn. \"Lutta, are you all right?\" The way he looks at me...it\"s like Hoole. So much like Hoole. \"I\"m fine,\" I answer, and immediately scan my surroundings. Perhaps I have become overly paranoid with time, but I can\"t be sure. In any case, I can\"t let my guard down in this case; I could find myself dead in a second, just like that I died in an instant -- killed by Strix Strumajen. I shudder, remembering the memory of being ripped. Ripping, ripping, tearing, blood, pain-- Death. And then... Well, I don\"t want to think about what I don\"t remember. After that, there was nothing but a cluster of memories of what happened within death-- Falling. Falling... Floating...unraveling...flowing through the winds...becoming one with nature...then falling.... Falling, falling downwards, a curse uttered upon my kind: \"To hagsmire.\" Hagsmire, where the ones who have sinned within their lives went, for eternal damnation. Hagsmire, for hagsfiends, and...and... Nothings. Nothings -- they who mean nothing to the world, who should never have entered this life, this realm of breathing. Falling, agony, curses, darkness, cold hate. Those flaws of what life and death decide. And nothings. Nothings, like me. Nothing. Snap out of it. I don\"t want to remember. Of being one of the damned. And now I\"m back. Why? \"Lutta?\" -- and I look up. Hoole -- no, Coryn. Coryn, the Barn Owl. Unconsciously, I stare at him with huge eyes that deserve to pop out of their sockets. \"Yes?\" I say. Oh Coryn, please don\"t look at me like that. You look like Hoole, please, don\"t look sympathic...please don\"t...I want it but you don\"t have to give it. Can you not see that my heart has already been broken? \"Lutta,\" he says, softly, and gives me a tender nudge with his wing. \"Can you stand?\" I nod, because I cannot find myself shaking my head. \"Yes.\" Can my legs work? He steps back slightly, to give me room, and I try to remember how to use legs again. Now, I just...position them...and push upwards... A searing pain. My legs! They hurt! They hurt! Fall down again -- No, I can\"t. I can\"t fall; I\"ve told Coryn that I will stand, will be able, and I will not lie; not anymore; I have already lied and tricked Hoole, I will not do so again, not to any owl. Nor this owl. This owl, who stares with the eyes of a true king. A young king, but a wise one, and a good one. With difficulty, I stagger forward, out of the small nest. I feel the bark underneath my claws as I step on it; bark again, how it brings back thoughts of those days. It feels a bit unfamiliar, but I cannot forget bark. Such a thing is pathetic. I feel my legs quivering, wanting to give way, but no. No. I have said that I will stand. How they quiver! -- stop it. Stop quivering! I have said I will walk, and I will walk, even if this pain continues -- like fire searing at me, numbing in a way. I will not lie again. Deception has torn me once before; never again. I look at Coryn, see the concern in his eyes; he hesitates to step forward, wanting to help. No, I can do it. Please. Let me. I walk, a little faster, wanting my legs to stride. They work, a little better. I look at Coryn again, and I ask, \"Where am I?\" \"The Great Ga\"Hoole Tree.\" Silence. My breathe hitches quickly. \"The...\" I pause, mind spinning and reeling. The Tree? The Great Ga\"Hoole Tree, that was reigned over by...Hoole? \"Tree?\" The Tree. The Great Ga\"Hoole Tree. And my mind explodes. \"Th -- Then!\" I jump as I begin stuttering. \"The Ga\"Hoole Tree! I -- I don\"t belong here! I am nothing! I lo-- \"Hoole, he...NO! I am a disgrace! My presence is dirtying this tree!\" I back away, seeking some sort of exit. I don\"t belong here. No. I am defiling the Tree. How long has it been since the last time I was here? I deceived the good king, I nearly killed him -- he was a great king, and a great owl! I don\"t deserve to be here! How many good owls reside in this tree now, the Tree that was grown by -- as rumor says -- the sorrow and goodness of Hoole? I don\"t belong here! Coryn jumps now. Please, no! \"Lutta!\" he says, eyes flashing with some sort of fire that started. \"You are not!\" Not? But...Hoole! Hoole! -- please no! You--! I stare, transfixed, as I see Coryn change. I don\"t see Coryn anymore. I see...you. Hoole. Eyes, eyes that spoke of what you believed in. Your sense of love for those close to you, your fiery will that would see indiscrimation to the very end. I\"m sorry Hoole! I deceived you! I am everything you are not! -- and should not be! I am NOTHING! I back away, seeing Hoole. He steps forward, that look in his eyes-- \"You deserve to be here! You--\" I stumble backwards as I shriek, \"Hoole! Don\"t! Don\"t you understand!\" Now is my time to confess! I never told him that I was-- I\"m sorry Hoole. I\"m so sorry! \"Lutta!\" The owl before me is -- He\"s pleading! No, I don\"t deserve it! \"Lutta, you do! Just as any owl!\" My gizzard throbs, beating against its surroundings. I stare upwards, feeling it grow cold. \"NO! I DON\"T DESERVE TO BE HERE! I AM NOTHING! I -- DO -- NOT -- BELONG -- HERE! I AM...\" My gizzard gives a jerk. My throat fills with pebbles; \"Nothing....\" My words are choked. It\"s true. I am nothing. I don\"t deserve to be here, at the Great Tree. PT: Like? Hate? Please review. I hope to update soon. Fill up the plot holes, twist the story...you know. Nothing, Yet A Love Never Dying PT: I really need to update more often. xD -Shot- ...-looks out window- Well, I thought I\"d take some advantage. Now that I\"m in high school, and in the JROTC program, I\"ve joined the drill team that saps up all the members\" time. But as of this month practice has been cancelled until further notice. Now I have the energy and time for writing, so yeah -shrugs- FlamingSerpent I know, right? So sad...last book...oh the nostalgia.... PokemonKnight Yes, isn\"t that talent just so impressive? x) -shot- Thank you. silverrosetail Thank you, and thanks for the further information ^^ Hopefully, once this is pointed out, things will definitely unfold a little more. SamPD Mmhm...since I\"ve already replied to you... Crazydragonlord Thank you~! n_n I appreciate that. Move Again, Step By Step Nyra glanced down at the small bit of parchment in her right claw, squinting slightly to make out the ancient words. The Kraakish scrawled upon it was old, but young enough for her to translate. The general of the Pure Ones had to stop the glee that was bubbling upwards in her gizzard -- no, not yet, when this isn\"t confirmed to work -- but she allowed herself to flush slightly with success. For the sake of her sanity and her own feelings of encouragement. Success was near... Nearing... ...Bit -- by -- bit. \"Yes.\" A glint came to concentrated eyes. \"This is it.\" I look up. Consciousness is drifting back with a comforting steadiness. It comes kindly, but firmly. But I let it come. Hell. My body aches -- all of it, it aches and hurts and pinches itself. It\"s a twisted rag -- I\"m a twisted rag. Hoole. Coryn. Oh... I shouldn\"t be here. The thought is fire, or else ice. I shouldn\"t be here. I don\"t deserve to be here. My thoughts are taking flight from where they have left off. I don\"t deserve to be here. Of course I don\"t. I look around as my vision clears; he is not here...Coryn, was it? No one is here. My phantom gizzard -- phantom, yes... -- speaks...it sends a jolt of alarm. Warning. They have left me. They must have. Kind as they seemed to be, they must have left me here...in this hollow...perhaps wanting me to leave on my own, too disgusted to act. A saddening thought. They acknowledged me, though, and they were kind. Perhaps they saw through to something... But that\"s reality, is it not? -- of course, freak that I am; player of the confidant game that I am...an actor, nothing more. There is no real me. My grief has quieted. I should leave then -- it cracks my phantom gizzard in half -- this is the tree; and I am nothing. I shall leave then...go somewhere else to rot, quietly, for the peace. This tree has something...something...that revives Hoole\"s life. I wonder, then...if he is looking down here. I wonder what he is thinking. At least he is at peace. There is no me to disturb him, and I shall bother him no more in this tree. Hoole. I am sorry. I don\"t deserve any of your love. And I will not bother Coryn. He reminds me so much of you. I turn to face the opening of the hollow, veiled by lichen. Pretty. How alive. There is air outside; nighttime seeps through the fleshy fibers. Cool air, and a wide expanse. Shall I fly till the end of my miserable days? I shift; I can move. Then I can leave. There is no reason to stay here, of course...this is Hoole\"s home; I shall not taint it. Oh, it\"s silent -- I can\"t believe it took so long for me to notice it; my feathers are rustling -- I must look ugly -- and my feet shift. I can move. This is life. I am alive. Truly, truly alive. I cannot tell what exact state I am in, but I know I must be a mess. But outside I can release, can I not? Release, and perhaps become one with nature, earth or sky. There is a whole world out there, limitless. I can wander till the end of my days, past even the confinements of the land we owls know. Beyond the beyond the beyond. I fear no danger; in fact, the danger can come, and I shall not care if it kills me. I am an owl -- whatever I am -- with nothing to lose and nothing to gain. Then I am ready. I listen one more time, pause, before beginning the endless journey. Nothing. There is nothing but the hum of silence, scratching in cadence. I must be desperate to stay, as if I truly deserve it. I don\"t. I cannot stop thinking about this; I deserve nothing. I am nothing, after all. If I am damned to this line of reality for this whole retake at life, then so be it. Then, I will take my leave. Good riddance, then. My eyes mist. When I shake my head to clear the fog, I hop forward -- painful -- and I manage to walk. I can do this. There is the opening; I will go now. I must be cherishing the whisper of lush wind. I will go. I will go. With a shake of my ruffled feathers, I jump out, brush through the lichen that caresses my wings in farewell -- with pity? -- and snap my wings open. A prickling sensation. With a quick look downwards, as the world rushes in, I see the silver-gray plumage restored to my chest. A shapeshifter again. Coryn watched the candle before him splutter wetly, in its final throes of death. Though fire was life, it needed something to last. Something that helped it, hurled it onward. Without, it would die, die and scream. Then it would fall silent and blow out of existence. And that would be that. Died, and was dead. But undoubtedly, irrevocably, dead. How, then...how? -- how did a dead owl, undoubtedly gone for years upon years upon years...how could a dead owl rise, fresh and breathing, from the dead? This was illogical, and beyond the illogical itself. Of course there could be attempts to raise the dead, but...the body. And the sheer closeness to impossibility. Lutta, the owl of legend, was alive after being dead for so long. How...? Her body must have withered and become nothing but food for the earth to devour greedily. Though the beyond of the horizon of the logical was boundless, this was still... How, he mused. How. That was what he was pursuing. How? How? How? How had she returned to the earth? Was she an illusion? -- if so, she was something beyond illusion...she was too perfect to be something to be called a mere illusion. Coryn mused onward as he turned back to the sheafs of paper -- he had left Lutta for the pursuit of something...something that could shed its light upon the happenings. So long ago. Lutta. Was this a work of nachtmagen? There was that possibility, faded as the yellow craft was. Then who had performed it? Coryn could not grab it; he snatched at empty air. There was nothing to tell him. Nothing that anything could tell him, nor aid him. This was an enigma beyond most anagrams of matters. This was a mess. He had found her, Lutta, merely lying on some branch of the tree. And, through some urging of the gizzard, he had brought her back into the tree itself. This made little sense. He dived into another pool of thoughts. What if...? There was a bang; he jumped and turned. There was a curse of \"raccdrops!\" Twilight. Coryn called, one wing still laid flat over a book, \"What\"s going on?\" More cursing, followed by Gylfie\"s reprimands. There was a loud whirlwind of a flutter, and soon the whole Band was within the room! \"What?\" Coryn said loudly at the undignified relative of a heap before him. \"What\"s happened?\" Something shot through his gizzard. Soren spoke first, in a rushed but determined voice. \"She\"s gone!\" Another shot. Something like cold fear and wonder. \"She\"s gone!\" Gylfie wailed. \"Lutta\"s gone!\"', '\"All will become one with Russia,\" he said, almost simply, his cheer eerie. Fists were already clenched; now they groped about, for a pan, a rifle, a sword-there was nothing. In some way, this brought her but a sigh of relief-Gilbert and Roderich, she was reminded, were not here to suffer as well. If Ivan put his giant hands on Roderich... Click, went an object, and Elizaveta was snapped into the world when her own instincts pulled her head away; on time, for Ivan\"s collar was soon found to be touching the tip of her nose: she went cross-eyed staring at the thing: it pinched her skin, now red with anger. How dare you- Oppression! No one could lay that yoke above her again!-she would never allow it! Even when a sort of purple shroud seemed to wrap itself about Ivan and blaze as a fire would...even as a faint eerie \"kolkolkol\" was thick in the air...Elizaveta held her ground-glaring, hating, repulsing. Oppression. No more oppression...! His eyes dropped; his hand followed: with a bolt of alarm-lechery?-feint?-Elizaveta took one step back, bristling as the wolf does. Watching the muscles of the Russian arms twitch, she ducked when he snatched at where her waist would have been had she remained still; with a quick flush of indignation, she glared upward; if only Ludwig had not been forced out! He had retreated with such haste, back to Berlin, offering to bring her with him, though knowing that she would not leave-Hungary was her, and her place. So he had left, alone and resigned to the fact that even Veneziano had to leave him, taken by the Allies. Elizaveta had watched him go with as much resignation. Endsieg, the Germans called it. Ivan was huge, behemoth above an ant...no, not an ant, but perhaps a lotus...perhaps a hybrid of that with a rose. There is no rose without thorns, after all. The Soviets had already been merciless, ruthless as the next army: the ache of rape and massacre fluttered about the land. If anything, the nation itself would fight. Useless as it was. Ivan dropped the collar. Still galvanizing with mental shocks down the spine, she watched closely. Too closely. Ivan\"s hand dove downwards and snatched. With a horrified she jumped back, giving a swift right hook to his neck, the closest she could reach. -And in the end, it almost didn\"t matter. Ivan smiled triumphantly as a long-forgotten weight was shifted from her belt. With a savage look from one of him and Elizaveta, the paper was in between his fingers...Elizaveta looked, stunned-in the moment it felt as if the appendix had been removed from her body. As useless yet familiar thing was there, the memory of its origins...filled with not blood, but gore-milk skin against the universe of deadness. The paper was scrolled about the Russian\"s fingers; somehow, it completed the image-a bloody Soviet, grinning wickedly as the royal purple billowed from his eyes: to top it all off, a dirty cream paper twisted about his raised digits. It was almost gray. She had long since forgotten about the thing; the small text, written in Gilbert\"s-a frantic parry-handwriting; out fell a finger, and it was the one from the bombed wreck. Just its weight-it had been there all along, useless, a little keepsake of Berlin; what she had seen there. What she had left behind for her own Hungarian version. It was white still, yet shriveled, and dry-that was all; it had changed, though not enough. \"German,\" Ivan said, warmly-no, coldly...swelteringly icy, and that was oxymoronic, but oxymoronic was practically the composure of him...him, all him. \"This is a finger from Germany, da?\" \"How do you...\" She sucked in a breath; refused to let her eyes widen. The grin widened; \"Just a lucky guess.\" He giggled, sickeningly, violet mist shrouding the remains of his person; his teeth were a white and perfect-they flashed in the buttercup sun, which laid its yellow upon the stiff white ground, touched with chill. Elizaveta stood stock-still then: she did the whole time; something had been torn away, and it lay resting among Ivan\"s grubby fingers, clad in leather-worn leather gloves that anyone would wear these days...she rubbed at her own, slightly shredded, at the still-clothed fingertips. Hands-they were worn down: hers and Ivan\"s. Beaten flesh. Looking up again, relief flashed briefly, the white light stark against her crimson crumbling heart, or else the mind-one was meaningful as the other; with that thought, of Roderich, Gilbert, Ludwig, Veneziano, and the war as a human, Ares... Endsieg. There was nothing to lose, but more lives. Eyeing the Russians, who had swept her land into scorched blood, she charged. There was nothing more to lose, and she kept on telling herself that. Even as the Soviets rushed over, rustling the paper with the breeze stirred by their boots; even as she lay ready to die, ready to live, tired as a nation at the end of his time. There was plenty of dust, and plenty of blood, and her body ached. It fit-it all fit. The yoke had been laid over her shoulders-the niggling thought that it was cracked brought no satisfaction: the Soviets still had claim laid over the land fought so hard for: Everything I\"ve done, she thought, as a cough formed within her throat, was for my people. Her thoughts flickered, at Roderich, at Gilbert-if she could not fight, she could marry, or give herself over; but she could fight, she merely needed the mentality rather than the plentiful physique: that was why she was in...this. \"Fuck,\" she breathed, eyes shut against the world. The last soldier soon disappeared through the limits of sound; peace and dust remained-not one stray man was left, no one else to strap the lead to her bones. Limbs aching, heart aching, mind aching, she lay there among the debris- No wonder, then, said the idle mind; she could have scowled, but it would have hurt too much-coughing did not help: if it stayed, it hurt the throat; if it was released, it cut the throat; the effort of checking it racked the whole body, and there was none of it anyway. Head lolling back, Elizaveta felt the paper, the finger, lying dead on the ground: Russia had dropped it, mockingly, to replace the grave flowers. There were no flowers, aside from those withered things in her hair. They were papery. Still, being near dead...the well of strength was dry. There was but moisture left in the moss growing upon the clammy stone-up the frozen cylinder it traveled, and so she flinched when the hand came. It was cold. Cold-and yet, hot as ice-white and freezing; the touch was familiar. It was light as a feather. The feather was upon the shoulder; it pressed, though not harshly; still, it could not be described as gentle. The hand was frail as her strength-brittle and cold and old. She refused to open her eyes then. She had decided, some time ago, that she liked the dark. She preferred it; it was friendly, and it allowed ignorance to be an excuse. It was kind, and she wished it could be a closer friend. But white-why white... \"Hey,\" said something, someone, something, someone. The ax scraped against the stone; it rasped with a familiar tinge of the past months, which were long as eternity, significant as the rest of time\"s children. It was a beautifully ugly voice, salty, bloody, white as fire. In the next moment there was nothing but one thing-it could not be. The pressure increased, it was beginning to hurt. Not able to growl, Elizaveta shifted with painful instinct-another cough ripped through her chest. \"Hey,\" said something again, and she summoned what was left of the moisture in the moss to flick her eyes open-it hurt: her eyes stung in white with water, but she knew it would come to pass. Everything comes to pass. Everything-absolutely everything: she had to keep on telling herself that, for though it passed, it took its very sweet time doing so; so that she could almost taste the bitter sparks on her tongue; it was parched, and thus drier. Spice. \"Fuck you,\" she whistled through her throat. It stung. It could not be. The pressure increased, not unexpectedly; it squeezed upon her shoulder, and it took a large muster of strength to finally blink the fluids away from the eyes, so that they were a clear green again-the first sight was white, as it always was-the second blink brought the sight of red, and some part of her-somewhere, deep down or hidden-despaired: agony nudged at her again, and she knew that those papers would not have been so kind as to let her go: no, she had to confront; it was a gift of something...that would not irk her for the rest of eternity, and yet a curse of more pain. The choice of selfishness or selflessness, when both loosed their boundaries and came together. And that hurt. More than anything, that hurt-the scorch of disappointment; denial, anxiety, fear-there was too much of it. And yet, she did not want him dead. It had taken her time, so much time to realize that...but she did not wish death upon anyone, having seen too much of it as the clock ticked away-she had never wanted anyone to truly die. Gilbert Beilschmidt, though she hated him above all, was no exception. But in times such as now, when war tore the world apart-when history decided to twist itself about-when the nations crumbled-how could death not be a blessing?-at this point she could almost want them all to be dead. Roderich, Gilbert, Veneziano, Ludwig...and yet she would watch with relief on the day that each of them would pick themselves up, and charge into the distance with life. She hated war. She blinked rapidly, staring, always watching; though she ached, she let the next batter of coughing come to pass-shock, it overcame her then. Charging upward, body screaming in protest, she could only slap him with strength that came by habit, before wrapping both arms around him, wondering how and why in hell- \"Get off me, woman!\" he protested, attempting to flail; she saw now that the tin had been stripped away, or at least most of it, as she felt him, flesh and cloth and hair-from the unhealthy pallor of his skin, from the dried hard uniform, to the pinked and browned hair, silver still shining boldly beneath the blood. He was unusually warm-hot even-when she felt him; clearly the cold had been warded off, though his hands still felt like ice; remembering the documents found in Ludwig\"s office, she realized that it was fever. But his head-feeling about the neck, she knew it was there-desperately feeling, just to know how cruel death was, she felt it, finding no seam-with a thin cry of joy and pain she kissed it, squeezing him till he was strangled- \"You\"re alive,\" she breathed, even as garbled speech flew from his lips. She was going into spasms-this was too unreal! And yet it was. He was so, so solid. His eyes were ruby. No petty pink glaze upon the Kingdom of Prussia\"s gaze-no death frosting them over. Clinging to him, something told her that she would never let go-a stupid little piece of wishful thought, no doubt: never let go, how ridiculous; and yet she did not release him, as he calmed between her limbs, resigning with guilty pleasure, rigid with denial. She could not even loosen about him-there was nothing but the jail scene playing and replaying itself in her mind-letting their hands drop, parting, and then the sickening sound of the guillotine\"s strike. Water, red, pink, silver, white, black. The swastika rose over all, as if to mock... \"Where in Isten\"s name have you been?\" she muttered against his shoulder, before lifting her head away hastily; still, though, she did not let go; she wanted to savor it. As the vampire feasts on blood. The scent of metal clung to him. \"Get off,\" was the obstinate reply; she lifted her hand and slapped him again, not knowing what else to do. \"Ow!\" \"Where\"ve you been?\" she said again. \"You were supposed to be dead-\" \"Well, I\"m so freaking not-\" \"I saw your head!\" she said, voice reaching a higher octave. \"It was a fake!\" \"Impossible,\" she declared, eyes widening before she finished; it came to her, suddenly-the way it had fallen, the sudden hush of death, the blindfold of stars, the blood-she had seen it, touched it, waded in the water it buried itself in.... She had suffered with him at death. \"You were dead...,\" she whispered; it gave way to coughing, and he only watched as she did; held onto her and she held onto him. \"I heard the thud. If you were dead-\" He grunted. When she looked up, his eyes were a bitter red. \"The head was fake. They...held me down.\" Scowling, he looked away; admittance was ignominy. \"They held me down up there. There were lots of them, Hungary-scheiße, there was a lot of back-up that we didn\"t notice; I couldn\"t beat off all of them. And my gun ran out...\" His voice faded; still, his scowl deepened, and he finished to his own satisfaction. \"Their leader was fun to kill though.\" He laughed, cruelly, forcefully-he found no love for death, though he had seen enough of it to mind less. Elizaveta decided against shaking her head-it could only be true; she had known him for years, since they were incomplete nations, just children running about with swords of both wood and steel. Just as he had sifted out her identity from that of Elisabeth Wertheim\"s, it was with ease that she found that this man in front of her was real: as nations in human form, they were allowed the same detached senses as those immortal. Stupid, she scolded herself, knowing not to trust so easily; but it was what it was. She noticed the shards of tin still upon his flesh then-of course, he could not have been thrown out so easily-time was needed, so much time; some things did not change, but could. They trapped him. Shackled his person. Still not releasing-he was too real, too solid, to let go-she let the glimpses of his uniform and body form in her mind; she looked about, saw the blood, the bruises, the sickly pallor of his skin. Dread formed with it, in a way almost instinctive, be it Gilbert or not: \"What did they do to you.\" It was not a question-it was an exclamation, asking, wondering, but not questioning. The papers came to mind again. A pause-it was too long, in Elizaveta\"s mind. With a ferociousness that came at will, that sapped her meager strength as well as supplied it, she asked, this time, demanded, \"What did they do to you?\" He was biting his lips, not speaking; still, obstinately, she took him by the shoulders again, harder, saying, \"What did they do to you?\" The papers came to mind again...how Ludwig had admitted it, how Gilbert had been so emotionless for the past year.... A protectiveness that she had never felt before, for but Roderich and Veneziano, but never this man, emerged; it reared its head menacingly-some maternal side of her glared outwards, and she shook him. \"Tell me!\" He only bit his lips harder. \"Tell me, God damn it,\" she said. \"I found documents in Ludwig\"s office. Is it true...\" he looked at her \"...that, throughout the war....\" \"Ja,\" he said, finally; his tone shook at the slightest, but was steely at the same time. His eyes grew hard. Elizaveta had never seen him like this, before the war-so close to tiredness, so close to a sort of trauma; he spread trauma, he did not suffer from it. She had known him for so long, and yet finally.... Not noticing how hard she was holding onto him, as if to crush him, she leaned in with complete urgency, green pools of eyes reflecting the cracked image of Gilbert Beilschmidt. \"Russia...hurt my people. So much.\" He snorted softly, in disgust. \"And der Führer\"-derision-\"doesn\"t like me a lot.\" The line along his brows became harsh, harsher than they needed to be. \"My people aren\"t West\"s. They\"re different. And they don\"t like der fucking Führer. \"West didn\"t know; he only knew later, but they told him I was dead. He was pissed and everything; he lost my awesomeness after all.\" The grin curled along his chapped lips. There was no humor in it. \"I\"m just a small state now; I\"m the most freaking awesome state that existed, but I\"m still just a state. \"They experimented on me,\" he continued; Elizaveta could see the anger etched along his face, and she felt it too; she had suffered, though not as much, by the way it sounded-her Jews were still her people, no matter what the Germans said. She could never understand why others could do this to people.... \"Russia\"s people and West\"s people. They raped the women and killed the children.\" A shudder passed through him, in painful memory; again, Elizaveta noted his love as a nation for his people; Prussian, Crusader, Knight he may be, he still had people. \"Well, mostly Russia\"s. West\"s did too, but mostly they just did those experiments and sent them off to work.\" Another sour laugh. \"Hitler thought I wasn\"t really important later on-before that he just sat around glaring and all. I had to go to jail several times-they said I was encouraging sedition against him, and that\"s when it happened.\" \"They...\" Elizaveta spoke at last. \"Torture,\" he said, nodding coolly. \"Later Hitler started doing it outright-he thought that I wasn\"t good enough, and didn\"t deserve his shithole of a Reich. What a failure,\" he added darkly. She scowled at him, alarmed, angered, bewildered; \"Why didn\"t you tell Ludwig?\" \"And what would he have done?\" he answered cuttingly. \"Kicked him off and told the Allies and Jews that he was sorry?-West\"s a stubborn arschloch, and he loves his Führer so much.\" \"Oh Gilbert...,\" was all she could say, and she could only blink aside from that. \"Was?\" he snapped, silver locks bouncing. \"Is this why...\" \"Ja. Haven\"t you noticed that this Gott-forsaken war is tearing the world apart?\" \"I have,\" she said quietly, not protesting; his statement was horribly obvious. \"I don\"t think it\"d be easy to miss.\" Now it was her turn to smile, so she did; it was bitter as his, and the worn grinning soldiers were twins. She sucked in a breath before wheezing at the slightest; the image shattered. \"And,\" he added, though almost hastily, \"I\"ve always wanted to know\"-she looked at him, albeit with some anxiety for the topic-\"what in hell do you see in Roderich?\" She should\"ve slapped him. She should\"ve pummeled him into the ground. She should\"ve left him then and there. She should\"ve. She could\"ve. In the end she did not. She saw it coming. She knew it had to-it was bound to, heading her way; the circumstances catapulted them at her; the tension crackling in the air, like electricity powered it-I should have come sooner, but now...she had never been able to measure the distance from whence it came. Now it was laid before, and she wondered why this exchange had never occurred between them-they were too busy fighting. Hating each other. And she still hated him, but they had enough now, to ceasefire for the moment. Enough of what, she could not say. Roderich. How could she tell him...as she stared wistfully at Gilbert\"s crimson eyes, some part of her wished that she had never met him, nor Roderich-if only one should be nothing to her, she would be happy; he would be happy-no tumbling love, no turmoil with the blood split between them. If she had only grown up to be a boy after all; if only it would be when she was still the wild girl on the plains (not that she would ever miss Mongolia, Turkey, or having to carry a bow and arrows out with her from so young an age...), beating Roderich-Austria-back till he could not even move; even before Gilbert began to defend her land. But no. In the end she had met someone so kind, someone who had given her love in a hate-filled life; someone who gave her a second glance, and more, not in hostility or for the sake of land-he was fortunate Austria, who valued peace. Perfection did not exist-but to Elizaveta, he was the closest to achieving it; never had anyone been so positively unreal. She loved him. She could trust him. Gilbert had been hell-sent. He had made fun of all the trials of her life-hurt Roderich...was a barbarian who cared for none for himself; there was nothing but power, and all who even stumbled in his path were gleefully slaughtered. Studying his face now, she could see the years imprinted upon his face; the stupid boy, the hateful man, dishonorable dog he was. And yet-in the end, she had been proven wrong about his care: he loved Ludwig. His people. In some way, there were binds tying them together. If not loved, then cared for; in the end, he was proven to be human, if not a ruthless one. In the end, however...they were both merely tired nations, one about to drop dead; it was painful to think of. Had she fallen in love with this man? This man...who was merely one step away from even raping Roderich-she had thought it so when he came back speaking of lost Silesia, though she had been quick in recalling the pious side of her Prussian foe-could she have fallen in love? It was not impossible to love two-and it was only now that she thought it, thought hard. Unthinkable! she snapped. She proved herself wrong when she put their mouths together. \"Roderich is better than you,\" she hissed through their teeth; his lips were cold, pale, chapped; chapped and cold as hers. He was complying coolly, almost thoughtfully. \"You may have claimed my vital regions first\"-they smirked in unison-\"but my heart is still Austrian territory.\" She then muttered against his tongue all that she thought, of him, of Roderich-of Roderich\"s kindness and heaven-sent presence, of Gilbert\"s disgusting being. They were all true, they both knew; but hate and love were married in a balanced union: thus she hated him, and did not all at once.']}\n"
     ]
    }
   ],
   "source": [
    "with open(DATA_DIR + 'pan20-authorship-verification-training-small.jsonl', 'r') as f:\n",
    "    for l in f:\n",
    "        d = json.loads(l)\n",
    "        print(d.keys())\n",
    "        print(d)\n",
    "        break"
   ]
  },
  {
   "cell_type": "code",
   "execution_count": null,
   "metadata": {},
   "outputs": [],
   "source": [
    "from collections import Counter\n",
    "dictionary=Counter(filtered_text)\n",
    "import matplotlib.pyplot as plt\n",
    "from wordcloud import WordCloud\n",
    "\n",
    "cloud = WordCloud(max_font_size=80,colormap=\"hsv\").generate_from_frequencies(dictionary)\n",
    "plt.figure(figsize=(16,12))\n",
    "plt.imshow(cloud, interpolation='bilinear')\n",
    "plt.axis('off')\n",
    "plt.show()"
   ]
  },
  {
   "cell_type": "markdown",
   "metadata": {},
   "source": [
    "Fit the feature sklearn transformer \n",
    "======"
   ]
  },
  {
   "cell_type": "code",
   "execution_count": 9,
   "metadata": {},
   "outputs": [
    {
     "name": "stderr",
     "output_type": "stream",
     "text": [
      "/usr/lib/python3.8/dist-packages/joblib/externals/loky/process_executor.py:688: UserWarning:\n",
      "\n",
      "A worker stopped while some jobs were given to the executor. This can be caused by a too short worker timeout or by a memory leak.\n",
      "\n"
     ]
    },
    {
     "name": "stdout",
     "output_type": "stream",
     "text": [
      "Time:  2698.403188\n"
     ]
    }
   ],
   "source": [
    "start = datetime.datetime.now()\n",
    "\n",
    "docs = list(X_train['doc1']) + list(X_train['doc2'])\n",
    "transformer = get_writeprints_transformer()\n",
    "X = transformer.fit_transform(docs[:len(docs)//4]) # Usiamo 1/4 dei docs per fittare, valori più alti fanno esplodere\n",
    "scaler = StandardScaler(with_mean=False)\n",
    "X = scaler.fit_transform(X)\n",
    "\n",
    "with open(TEMP_DATA_DIR + 'transformers.p', 'wb') as f:\n",
    "    pickle.dump((transformer, scaler), f)\n",
    "\n",
    "end = datetime.datetime.now()\n",
    "print(\"Time: \", (end-start).total_seconds())"
   ]
  },
  {
   "cell_type": "markdown",
   "metadata": {},
   "source": [
    "Vectorize the training data\n",
    "======"
   ]
  },
  {
   "cell_type": "code",
   "execution_count": 10,
   "metadata": {
    "scrolled": true
   },
   "outputs": [
    {
     "ename": "KeyboardInterrupt",
     "evalue": "",
     "output_type": "error",
     "traceback": [
      "\u001b[0;31m---------------------------------------------------------------------------\u001b[0m",
      "\u001b[0;31mKeyboardInterrupt\u001b[0m                         Traceback (most recent call last)",
      "\u001b[0;32m<ipython-input-10-f29c620e7d2c>\u001b[0m in \u001b[0;36m<module>\u001b[0;34m\u001b[0m\n\u001b[1;32m      1\u001b[0m \u001b[0mstart\u001b[0m \u001b[0;34m=\u001b[0m \u001b[0mdatetime\u001b[0m\u001b[0;34m.\u001b[0m\u001b[0mdatetime\u001b[0m\u001b[0;34m.\u001b[0m\u001b[0mnow\u001b[0m\u001b[0;34m(\u001b[0m\u001b[0;34m)\u001b[0m\u001b[0;34m\u001b[0m\u001b[0;34m\u001b[0m\u001b[0m\n\u001b[1;32m      2\u001b[0m \u001b[0;34m\u001b[0m\u001b[0m\n\u001b[0;32m----> 3\u001b[0;31m \u001b[0mx1\u001b[0m \u001b[0;34m=\u001b[0m \u001b[0mscaler\u001b[0m\u001b[0;34m.\u001b[0m\u001b[0mtransform\u001b[0m\u001b[0;34m(\u001b[0m\u001b[0mtransformer\u001b[0m\u001b[0;34m.\u001b[0m\u001b[0mtransform\u001b[0m\u001b[0;34m(\u001b[0m\u001b[0mX_train\u001b[0m\u001b[0;34m[\u001b[0m\u001b[0;34m'doc1'\u001b[0m\u001b[0;34m]\u001b[0m\u001b[0;34m)\u001b[0m\u001b[0;34m)\u001b[0m\u001b[0;34m\u001b[0m\u001b[0;34m\u001b[0m\u001b[0m\n\u001b[0m\u001b[1;32m      4\u001b[0m \u001b[0mx2\u001b[0m \u001b[0;34m=\u001b[0m \u001b[0mscaler\u001b[0m\u001b[0;34m.\u001b[0m\u001b[0mtransform\u001b[0m\u001b[0;34m(\u001b[0m\u001b[0mtransformer\u001b[0m\u001b[0;34m.\u001b[0m\u001b[0mtransform\u001b[0m\u001b[0;34m(\u001b[0m\u001b[0mX_train\u001b[0m\u001b[0;34m[\u001b[0m\u001b[0;34m'doc2'\u001b[0m\u001b[0;34m]\u001b[0m\u001b[0;34m)\u001b[0m\u001b[0;34m)\u001b[0m\u001b[0;34m\u001b[0m\u001b[0;34m\u001b[0m\u001b[0m\n\u001b[1;32m      5\u001b[0m \u001b[0;34m\u001b[0m\u001b[0m\n",
      "\u001b[0;32m/usr/lib/python3.8/dist-packages/sklearn/pipeline.py\u001b[0m in \u001b[0;36mtransform\u001b[0;34m(self, X)\u001b[0m\n\u001b[1;32m   1006\u001b[0m                               FutureWarning)\n\u001b[1;32m   1007\u001b[0m                 \u001b[0;32mcontinue\u001b[0m\u001b[0;34m\u001b[0m\u001b[0;34m\u001b[0m\u001b[0m\n\u001b[0;32m-> 1008\u001b[0;31m         Xs = Parallel(n_jobs=self.n_jobs)(\n\u001b[0m\u001b[1;32m   1009\u001b[0m             \u001b[0mdelayed\u001b[0m\u001b[0;34m(\u001b[0m\u001b[0m_transform_one\u001b[0m\u001b[0;34m)\u001b[0m\u001b[0;34m(\u001b[0m\u001b[0mtrans\u001b[0m\u001b[0;34m,\u001b[0m \u001b[0mX\u001b[0m\u001b[0;34m,\u001b[0m \u001b[0;32mNone\u001b[0m\u001b[0;34m,\u001b[0m \u001b[0mweight\u001b[0m\u001b[0;34m)\u001b[0m\u001b[0;34m\u001b[0m\u001b[0;34m\u001b[0m\u001b[0m\n\u001b[1;32m   1010\u001b[0m             for name, trans, weight in self._iter())\n",
      "\u001b[0;32m/usr/lib/python3.8/dist-packages/joblib/parallel.py\u001b[0m in \u001b[0;36m__call__\u001b[0;34m(self, iterable)\u001b[0m\n\u001b[1;32m   1052\u001b[0m \u001b[0;34m\u001b[0m\u001b[0m\n\u001b[1;32m   1053\u001b[0m             \u001b[0;32mwith\u001b[0m \u001b[0mself\u001b[0m\u001b[0;34m.\u001b[0m\u001b[0m_backend\u001b[0m\u001b[0;34m.\u001b[0m\u001b[0mretrieval_context\u001b[0m\u001b[0;34m(\u001b[0m\u001b[0;34m)\u001b[0m\u001b[0;34m:\u001b[0m\u001b[0;34m\u001b[0m\u001b[0;34m\u001b[0m\u001b[0m\n\u001b[0;32m-> 1054\u001b[0;31m                 \u001b[0mself\u001b[0m\u001b[0;34m.\u001b[0m\u001b[0mretrieve\u001b[0m\u001b[0;34m(\u001b[0m\u001b[0;34m)\u001b[0m\u001b[0;34m\u001b[0m\u001b[0;34m\u001b[0m\u001b[0m\n\u001b[0m\u001b[1;32m   1055\u001b[0m             \u001b[0;31m# Make sure that we get a last message telling us we are done\u001b[0m\u001b[0;34m\u001b[0m\u001b[0;34m\u001b[0m\u001b[0;34m\u001b[0m\u001b[0m\n\u001b[1;32m   1056\u001b[0m             \u001b[0melapsed_time\u001b[0m \u001b[0;34m=\u001b[0m \u001b[0mtime\u001b[0m\u001b[0;34m.\u001b[0m\u001b[0mtime\u001b[0m\u001b[0;34m(\u001b[0m\u001b[0;34m)\u001b[0m \u001b[0;34m-\u001b[0m \u001b[0mself\u001b[0m\u001b[0;34m.\u001b[0m\u001b[0m_start_time\u001b[0m\u001b[0;34m\u001b[0m\u001b[0;34m\u001b[0m\u001b[0m\n",
      "\u001b[0;32m/usr/lib/python3.8/dist-packages/joblib/parallel.py\u001b[0m in \u001b[0;36mretrieve\u001b[0;34m(self)\u001b[0m\n\u001b[1;32m    931\u001b[0m             \u001b[0;32mtry\u001b[0m\u001b[0;34m:\u001b[0m\u001b[0;34m\u001b[0m\u001b[0;34m\u001b[0m\u001b[0m\n\u001b[1;32m    932\u001b[0m                 \u001b[0;32mif\u001b[0m \u001b[0mgetattr\u001b[0m\u001b[0;34m(\u001b[0m\u001b[0mself\u001b[0m\u001b[0;34m.\u001b[0m\u001b[0m_backend\u001b[0m\u001b[0;34m,\u001b[0m \u001b[0;34m'supports_timeout'\u001b[0m\u001b[0;34m,\u001b[0m \u001b[0;32mFalse\u001b[0m\u001b[0;34m)\u001b[0m\u001b[0;34m:\u001b[0m\u001b[0;34m\u001b[0m\u001b[0;34m\u001b[0m\u001b[0m\n\u001b[0;32m--> 933\u001b[0;31m                     \u001b[0mself\u001b[0m\u001b[0;34m.\u001b[0m\u001b[0m_output\u001b[0m\u001b[0;34m.\u001b[0m\u001b[0mextend\u001b[0m\u001b[0;34m(\u001b[0m\u001b[0mjob\u001b[0m\u001b[0;34m.\u001b[0m\u001b[0mget\u001b[0m\u001b[0;34m(\u001b[0m\u001b[0mtimeout\u001b[0m\u001b[0;34m=\u001b[0m\u001b[0mself\u001b[0m\u001b[0;34m.\u001b[0m\u001b[0mtimeout\u001b[0m\u001b[0;34m)\u001b[0m\u001b[0;34m)\u001b[0m\u001b[0;34m\u001b[0m\u001b[0;34m\u001b[0m\u001b[0m\n\u001b[0m\u001b[1;32m    934\u001b[0m                 \u001b[0;32melse\u001b[0m\u001b[0;34m:\u001b[0m\u001b[0;34m\u001b[0m\u001b[0;34m\u001b[0m\u001b[0m\n\u001b[1;32m    935\u001b[0m                     \u001b[0mself\u001b[0m\u001b[0;34m.\u001b[0m\u001b[0m_output\u001b[0m\u001b[0;34m.\u001b[0m\u001b[0mextend\u001b[0m\u001b[0;34m(\u001b[0m\u001b[0mjob\u001b[0m\u001b[0;34m.\u001b[0m\u001b[0mget\u001b[0m\u001b[0;34m(\u001b[0m\u001b[0;34m)\u001b[0m\u001b[0;34m)\u001b[0m\u001b[0;34m\u001b[0m\u001b[0;34m\u001b[0m\u001b[0m\n",
      "\u001b[0;32m/usr/lib/python3.8/dist-packages/joblib/_parallel_backends.py\u001b[0m in \u001b[0;36mwrap_future_result\u001b[0;34m(future, timeout)\u001b[0m\n\u001b[1;32m    540\u001b[0m         AsyncResults.get from multiprocessing.\"\"\"\n\u001b[1;32m    541\u001b[0m         \u001b[0;32mtry\u001b[0m\u001b[0;34m:\u001b[0m\u001b[0;34m\u001b[0m\u001b[0;34m\u001b[0m\u001b[0m\n\u001b[0;32m--> 542\u001b[0;31m             \u001b[0;32mreturn\u001b[0m \u001b[0mfuture\u001b[0m\u001b[0;34m.\u001b[0m\u001b[0mresult\u001b[0m\u001b[0;34m(\u001b[0m\u001b[0mtimeout\u001b[0m\u001b[0;34m=\u001b[0m\u001b[0mtimeout\u001b[0m\u001b[0;34m)\u001b[0m\u001b[0;34m\u001b[0m\u001b[0;34m\u001b[0m\u001b[0m\n\u001b[0m\u001b[1;32m    543\u001b[0m         \u001b[0;32mexcept\u001b[0m \u001b[0mCfTimeoutError\u001b[0m \u001b[0;32mas\u001b[0m \u001b[0me\u001b[0m\u001b[0;34m:\u001b[0m\u001b[0;34m\u001b[0m\u001b[0;34m\u001b[0m\u001b[0m\n\u001b[1;32m    544\u001b[0m             \u001b[0;32mraise\u001b[0m \u001b[0mTimeoutError\u001b[0m \u001b[0;32mfrom\u001b[0m \u001b[0me\u001b[0m\u001b[0;34m\u001b[0m\u001b[0;34m\u001b[0m\u001b[0m\n",
      "\u001b[0;32m/usr/lib/python3.8/concurrent/futures/_base.py\u001b[0m in \u001b[0;36mresult\u001b[0;34m(self, timeout)\u001b[0m\n\u001b[1;32m    432\u001b[0m                 \u001b[0;32mreturn\u001b[0m \u001b[0mself\u001b[0m\u001b[0;34m.\u001b[0m\u001b[0m__get_result\u001b[0m\u001b[0;34m(\u001b[0m\u001b[0;34m)\u001b[0m\u001b[0;34m\u001b[0m\u001b[0;34m\u001b[0m\u001b[0m\n\u001b[1;32m    433\u001b[0m \u001b[0;34m\u001b[0m\u001b[0m\n\u001b[0;32m--> 434\u001b[0;31m             \u001b[0mself\u001b[0m\u001b[0;34m.\u001b[0m\u001b[0m_condition\u001b[0m\u001b[0;34m.\u001b[0m\u001b[0mwait\u001b[0m\u001b[0;34m(\u001b[0m\u001b[0mtimeout\u001b[0m\u001b[0;34m)\u001b[0m\u001b[0;34m\u001b[0m\u001b[0;34m\u001b[0m\u001b[0m\n\u001b[0m\u001b[1;32m    435\u001b[0m \u001b[0;34m\u001b[0m\u001b[0m\n\u001b[1;32m    436\u001b[0m             \u001b[0;32mif\u001b[0m \u001b[0mself\u001b[0m\u001b[0;34m.\u001b[0m\u001b[0m_state\u001b[0m \u001b[0;32min\u001b[0m \u001b[0;34m[\u001b[0m\u001b[0mCANCELLED\u001b[0m\u001b[0;34m,\u001b[0m \u001b[0mCANCELLED_AND_NOTIFIED\u001b[0m\u001b[0;34m]\u001b[0m\u001b[0;34m:\u001b[0m\u001b[0;34m\u001b[0m\u001b[0;34m\u001b[0m\u001b[0m\n",
      "\u001b[0;32m/usr/lib/python3.8/threading.py\u001b[0m in \u001b[0;36mwait\u001b[0;34m(self, timeout)\u001b[0m\n\u001b[1;32m    300\u001b[0m         \u001b[0;32mtry\u001b[0m\u001b[0;34m:\u001b[0m    \u001b[0;31m# restore state no matter what (e.g., KeyboardInterrupt)\u001b[0m\u001b[0;34m\u001b[0m\u001b[0;34m\u001b[0m\u001b[0m\n\u001b[1;32m    301\u001b[0m             \u001b[0;32mif\u001b[0m \u001b[0mtimeout\u001b[0m \u001b[0;32mis\u001b[0m \u001b[0;32mNone\u001b[0m\u001b[0;34m:\u001b[0m\u001b[0;34m\u001b[0m\u001b[0;34m\u001b[0m\u001b[0m\n\u001b[0;32m--> 302\u001b[0;31m                 \u001b[0mwaiter\u001b[0m\u001b[0;34m.\u001b[0m\u001b[0macquire\u001b[0m\u001b[0;34m(\u001b[0m\u001b[0;34m)\u001b[0m\u001b[0;34m\u001b[0m\u001b[0;34m\u001b[0m\u001b[0m\n\u001b[0m\u001b[1;32m    303\u001b[0m                 \u001b[0mgotit\u001b[0m \u001b[0;34m=\u001b[0m \u001b[0;32mTrue\u001b[0m\u001b[0;34m\u001b[0m\u001b[0;34m\u001b[0m\u001b[0m\n\u001b[1;32m    304\u001b[0m             \u001b[0;32melse\u001b[0m\u001b[0;34m:\u001b[0m\u001b[0;34m\u001b[0m\u001b[0;34m\u001b[0m\u001b[0m\n",
      "\u001b[0;31mKeyboardInterrupt\u001b[0m: "
     ]
    }
   ],
   "source": [
    "start = datetime.datetime.now()\n",
    "\n",
    "x1 = scaler.transform(transformer.transform(X_train['doc1']))\n",
    "x2 = scaler.transform(transformer.transform(X_train['doc2']))\n",
    "\n",
    "X_train_features = pd.DataFrame(np.abs(x1-x2).todense())\n",
    "\n",
    "end = datetime.datetime.now()\n",
    "print(\"Time: \", (end-start).total_seconds())"
   ]
  },
  {
   "cell_type": "markdown",
   "metadata": {},
   "source": [
    "Vectorize the test data\n",
    "====="
   ]
  },
  {
   "cell_type": "code",
   "execution_count": null,
   "metadata": {},
   "outputs": [],
   "source": [
    "start = datetime.datetime.now()\n",
    "\n",
    "x1 = scaler.transform(transformer.transform(X_test['doc1']))\n",
    "x2 = scaler.transform(transformer.transform(X_test['doc2']))\n",
    "\n",
    "X_test_features = pd.DataFrame(np.abs(x1-x2).todense())\n",
    "\n",
    "end = datetime.datetime.now()\n",
    "print(\"Time: \", (end-start).total_seconds())"
   ]
  },
  {
   "cell_type": "markdown",
   "metadata": {},
   "source": [
    "Vectorize the Val data\n",
    "===="
   ]
  },
  {
   "cell_type": "code",
   "execution_count": null,
   "metadata": {},
   "outputs": [],
   "source": [
    "start = datetime.datetime.now()\n",
    "        \n",
    "x1 = scaler.transform(transformer.transform(X_valid['doc1']))\n",
    "x2 = scaler.transform(transformer.transform(X_valid['doc2']))\n",
    "X_valid_features = pd.DataFrame(np.abs(x1-x2).todense())\n",
    "\n",
    "end = datetime.datetime.now()\n",
    "print(\"Time: \", (end-start).total_seconds())"
   ]
  },
  {
   "cell_type": "markdown",
   "metadata": {},
   "source": [
    "Save to (or read from) pickle files\n",
    "===="
   ]
  },
  {
   "cell_type": "code",
   "execution_count": null,
   "metadata": {},
   "outputs": [],
   "source": [
    "import pickle, pandas as pd\n",
    "df = pd.read_pickle('permiriana.pkl')\n",
    "\n",
    "\"\"\"# Per salvare\n",
    "X_test_features.to_pickle(TEMP_DATA_DIR+\"x_test_features.pkl\")\n",
    "X_valid_features.to_pickle(TEMP_DATA_DIR+\"x_valid_features.pkl\")\n",
    "X_train_features.to_pickle(TEMP_DATA_DIR+\"x_train_features.pkl\")\n",
    "\n",
    "X_test.to_pickle(TEMP_DATA_DIR+\"x_test.pkl\")\n",
    "X_valid.to_pickle(TEMP_DATA_DIR+\"x_valid.pkl\")\n",
    "X_train.to_pickle(TEMP_DATA_DIR+\"x_train.pkl\")\n",
    "\n",
    "df.to_pickle(TEMP_DATA_DIR+\"df.pkl\")\"\"\"\n",
    "\n",
    "\n",
    "\"\"\"\n",
    "# Per leggere quelli già salvati\n",
    "X_test_features = pd.read_pickle(TEMP_DATA_DIR+\"/x_test_features.pkl\")\n",
    "X_valid_features = pd.read_pickle(TEMP_DATA_DIR+\"/x_valid_features.pkl\")\n",
    "X_train_features = pd.read_pickle(TEMP_DATA_DIR+\"/x_train_features.pkl\")\n",
    "\n",
    "X_test = pd.read_pickle(TEMP_DATA_DIR+\"/x_test.pkl\")\n",
    "X_valid = pd.read_pickle(TEMP_DATA_DIR+\"/x_valid.pkl\")\n",
    "X_train = pd.read_pickle(TEMP_DATA_DIR+\"/x_train.pkl\")\n",
    "\n",
    "df = pd.read_pickle(TEMP_DATA_DIR+\"/df.pkl\")\n",
    "y_train = X_train[['label']]\n",
    "y_valid = X_test[['label']]\n",
    "y_test = X_test[['label']]\n",
    "\n",
    "with open(TEMP_DATA_DIR + 'transformers.p', 'rb') as f:\n",
    "    transformer, scaler = pickle.load(f)\n",
    "    \n",
    "with open(TEMP_DATA_DIR + 'ordering_metadata.p', 'rb') as f:\n",
    "    train_sz, test_sz, val_sz, train_idxs = pickle.load(f)\n",
    "    \n",
    "with open(TEMP_DATA_DIR + 'ordering_metadata.p', 'rb') as f:\n",
    "    train_idxs = pickle.load(f)\n"
   ]
  },
  {
   "cell_type": "markdown",
   "metadata": {},
   "source": [
    "Train Classifier: Logistic Regression\n",
    "==="
   ]
  },
  {
   "cell_type": "code",
   "execution_count": null,
   "metadata": {},
   "outputs": [],
   "source": [
    "clf = LogisticRegression(random_state=42, verbose=1).fit(X_train_features, y_train)\n",
    "y_pred = clf.predict(X_test_features)\n",
    "y_test_new = []\n",
    "for i, row in y_test.iterrows():\n",
    "    y_test_new.append(row.values[0])\n",
    "y_test_new = np.array(y_test_new)\n",
    "y_test = y_test_new\n",
    "print(evaluate_all(y_test, y_pred))"
   ]
  },
  {
   "cell_type": "markdown",
   "metadata": {},
   "source": [
    "Embedding Model\n",
    "===\n"
   ]
  },
  {
   "cell_type": "markdown",
   "metadata": {},
   "source": [
    "## Load the dataset made of pairs of documents"
   ]
  },
  {
   "cell_type": "code",
   "execution_count": 9,
   "metadata": {},
   "outputs": [],
   "source": [
    "train_samples = []\n",
    "valid_samples = []\n",
    "test_samples = []\n",
    "\n",
    "for i, row_dict in X_train.iterrows():\n",
    "    train_samples.append(InputExample(texts=[row_dict['doc1']['preprocessed'], row_dict['doc2']['preprocessed']], label=int(ground_truth[i])))\n",
    "    #train_samples.append(InputExample(texts=[row_dict['doc2']['preprocessed'], row_dict['doc1']['preprocessed']], label=int(ground_truth[i])))\n",
    "\n",
    "for i, row_dict in X_valid.iterrows():\n",
    "    valid_samples.append(InputExample(texts=[row_dict['doc1']['preprocessed'], row_dict['doc2']['preprocessed']], label=int(ground_truth[i])))\n",
    "\n",
    "for i, row_dict in X_test.iterrows():\n",
    "    test_samples.append(InputExample(texts=[row_dict['doc1']['preprocessed'], row_dict['doc2']['preprocessed']], label=int(ground_truth[i])))"
   ]
  },
  {
   "cell_type": "markdown",
   "metadata": {},
   "source": [
    "## Test pretrained Cross-Encoder model"
   ]
  },
  {
   "cell_type": "code",
   "execution_count": null,
   "metadata": {},
   "outputs": [],
   "source": [
    "\"\"\"model_save_path = 'output/training_stsbenchmark-'+datetime.datetime.now().strftime(\"%Y-%m-%d_%H-%M-%S\")\n",
    "model_name = 'cross-encoder/stsb-TinyBERT-L-4'\n",
    "model = CrossEncoder(model_name, num_labels=1,device='cuda')\n",
    "\n",
    "y_pred = []\n",
    "\n",
    "for row_dict in X_test.to_dict(orient=\"records\"):\n",
    "    y_pred.append(\n",
    "        model.predict(\n",
    "            [row_dict['doc1'], row_dict['doc2']]\n",
    "        )\n",
    "    )\n",
    "\n",
    "print(evaluate_all(y_test, y_pred))\"\"\""
   ]
  },
  {
   "cell_type": "markdown",
   "metadata": {},
   "source": [
    "## Fine tune pretrained Cross-Encoder model on our dataset"
   ]
  },
  {
   "cell_type": "code",
   "execution_count": 11,
   "metadata": {},
   "outputs": [
    {
     "name": "stdout",
     "output_type": "stream",
     "text": [
      "{'auc': 0.76, 'c@1': 0.68, 'f_05_u': 0.712, 'F1': 0.664, 'overall': 0.704}\n"
     ]
    },
    {
     "ename": "NameError",
     "evalue": "name 'y_true' is not defined",
     "output_type": "error",
     "traceback": [
      "\u001b[0;31m---------------------------------------------------------------------------\u001b[0m",
      "\u001b[0;31mNameError\u001b[0m                                 Traceback (most recent call last)",
      "\u001b[0;32m<ipython-input-11-ea3dcf4ddffc>\u001b[0m in \u001b[0;36m<module>\u001b[0;34m\u001b[0m\n\u001b[1;32m     14\u001b[0m \u001b[0mprint\u001b[0m\u001b[0;34m(\u001b[0m\u001b[0mevaluate_all\u001b[0m\u001b[0;34m(\u001b[0m\u001b[0my_test\u001b[0m\u001b[0;34m,\u001b[0m \u001b[0my_pred\u001b[0m\u001b[0;34m)\u001b[0m\u001b[0;34m)\u001b[0m\u001b[0;34m\u001b[0m\u001b[0;34m\u001b[0m\u001b[0m\n\u001b[1;32m     15\u001b[0m \u001b[0;32mfrom\u001b[0m \u001b[0msklearn\u001b[0m\u001b[0;34m.\u001b[0m\u001b[0mmetrics\u001b[0m \u001b[0;32mimport\u001b[0m \u001b[0mclassification_report\u001b[0m\u001b[0;34m\u001b[0m\u001b[0;34m\u001b[0m\u001b[0m\n\u001b[0;32m---> 16\u001b[0;31m \u001b[0mclassification_report\u001b[0m\u001b[0;34m(\u001b[0m\u001b[0my_true\u001b[0m\u001b[0;34m,\u001b[0m \u001b[0my_pred\u001b[0m\u001b[0;34m)\u001b[0m\u001b[0;34m\u001b[0m\u001b[0;34m\u001b[0m\u001b[0m\n\u001b[0m",
      "\u001b[0;31mNameError\u001b[0m: name 'y_true' is not defined"
     ]
    }
   ],
   "source": [
    "# Load previously trained model\n",
    "model_name = 'output/training_stsbenchmark-2021-06-30_13-47-37'\n",
    "\n",
    "model = CrossEncoder(model_name, num_labels=1, device='cuda')\n",
    "\n",
    "\n",
    "y_pred = []\n",
    "for row_dict in X_test.to_dict(orient=\"records\"):\n",
    "    y_pred.append(\n",
    "        model.predict(\n",
    "            [row_dict['doc1']['preprocessed'], row_dict['doc2']['preprocessed']]\n",
    "        )\n",
    "    )\n",
    "print(evaluate_all(y_test, y_pred))\n"
   ]
  },
  {
   "cell_type": "code",
   "execution_count": 14,
   "metadata": {},
   "outputs": [],
   "source": [
    "new_y_pred = []\n",
    "for y in y_pred:\n",
    "    new_y_pred.append(np.round(np.clip(y, 0, 1)))"
   ]
  },
  {
   "cell_type": "code",
   "execution_count": 17,
   "metadata": {},
   "outputs": [
    {
     "name": "stdout",
     "output_type": "stream",
     "text": [
      "              precision    recall  f1-score   support\n",
      "\n",
      "           0       0.63      0.77      0.69      6192\n",
      "           1       0.75      0.60      0.66      6959\n",
      "\n",
      "    accuracy                           0.68     13151\n",
      "   macro avg       0.69      0.69      0.68     13151\n",
      "weighted avg       0.69      0.68      0.68     13151\n",
      "\n"
     ]
    }
   ],
   "source": [
    "from sklearn.metrics import classification_report\n",
    "new_y_pred = []\n",
    "for y in y_pred:\n",
    "    new_y_pred.append(np.round(np.clip(y, 0, 1)))\n",
    "print(classification_report(y_test, new_y_pred))"
   ]
  },
  {
   "cell_type": "code",
   "execution_count": null,
   "metadata": {},
   "outputs": [],
   "source": [
    "# Load previously trained model\n",
    "#model_name = 'output/training_stsbenchmark-2021-06-29_16-27-18'\n",
    "\n",
    "# Fine-tune model\n",
    "\n",
    "train_batch_size = 32\n",
    "num_epochs = 2\n",
    "model_save_path = 'output/training_stsbenchmark-'+datetime.datetime.now().strftime(\"%Y-%m-%d_%H-%M-%S\")\n",
    "\n",
    "# We wrap train_samples (which is a List[InputExample]) into a pytorch DataLoader\n",
    "train_dataloader = DataLoader(train_samples, shuffle=True, batch_size=train_batch_size)\n",
    "\n",
    "# Load preloaded model\n",
    "model_name = 'cross-encoder/ms-marco-TinyBERT-L-2'\n",
    "model = CrossEncoder(model_name, num_labels=1, device='cuda')\n",
    "\n",
    "# We add an evaluator, which evaluates the performance during training\n",
    "evaluator = CEBinaryClassificationEvaluator.from_input_examples(valid_samples, name='sts-valid')\n",
    "\n",
    "warmup_steps = math.ceil(len(train_dataloader) * num_epochs * 0.1) #10% of train data for warm-up\n",
    "\n",
    "model.fit(train_dataloader=train_dataloader,\n",
    "          evaluator=evaluator,\n",
    "          epochs=num_epochs,\n",
    "          warmup_steps=warmup_steps,\n",
    "          output_path=model_save_path)\n",
    "\n",
    "##### Load model and eval on test set\n",
    "#model = CrossEncoder(model_save_path)\n",
    "evaluator = CEBinaryClassificationEvaluator.from_input_examples(test_samples, name='sts-test')\n",
    "\n",
    "print(\"Evaluator: \", evaluator(model))\n",
    "\n",
    "\n",
    "y_pred = []\n",
    "for row_dict in X_test.to_dict(orient=\"records\"):\n",
    "    y_pred.append(\n",
    "        model.predict(\n",
    "            [row_dict['doc1']['preprocessed'], row_dict['doc2']['preprocessed']]\n",
    "        )\n",
    "    )\n",
    "print(evaluate_all(y_test, y_pred))\n"
   ]
  },
  {
   "cell_type": "code",
   "execution_count": null,
   "metadata": {},
   "outputs": [],
   "source": []
  }
 ],
 "metadata": {
  "kernelspec": {
   "display_name": "Python 3",
   "language": "python",
   "name": "python3"
  },
  "language_info": {
   "codemirror_mode": {
    "name": "ipython",
    "version": 3
   },
   "file_extension": ".py",
   "mimetype": "text/x-python",
   "name": "python",
   "nbconvert_exporter": "python",
   "pygments_lexer": "ipython3",
   "version": "3.8.10"
  }
 },
 "nbformat": 4,
 "nbformat_minor": 4
}
