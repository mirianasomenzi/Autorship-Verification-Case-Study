{
 "cells": [
  {
   "cell_type": "code",
   "execution_count": 2,
   "metadata": {},
   "outputs": [],
   "source": [
    "%load_ext autoreload\n",
    "%autoreload 2\n",
    "import os\n",
    "os.environ[\"CUDA_VISIBLE_DEVICES\"]= \"3\"\n",
    "os.environ[\"CUDA_VISIBLE_DEVICES\"]\n",
    "os.environ[\"CUDA_LAUNCH_BLOCKING\"] = \"1\""
   ]
  },
  {
   "cell_type": "code",
   "execution_count": 3,
   "metadata": {},
   "outputs": [
    {
     "name": "stdout",
     "output_type": "stream",
     "text": [
      "Defaulting to user installation because normal site-packages is not writeable\n",
      "Requirement already satisfied: multiprocess in /storagenfs/g.pisciotta1/.local/lib/python3.8/site-packages (0.70.12.2)\n",
      "Requirement already satisfied: dill>=0.3.4 in /storagenfs/g.pisciotta1/.local/lib/python3.8/site-packages (from multiprocess) (0.3.4)\n"
     ]
    },
    {
     "data": {
      "text/html": [
       "        <script type=\"text/javascript\">\n",
       "        window.PlotlyConfig = {MathJaxConfig: 'local'};\n",
       "        if (window.MathJax) {MathJax.Hub.Config({SVG: {font: \"STIX-Web\"}});}\n",
       "        if (typeof require !== 'undefined') {\n",
       "        require.undef(\"plotly\");\n",
       "        requirejs.config({\n",
       "            paths: {\n",
       "                'plotly': ['https://cdn.plot.ly/plotly-latest.min']\n",
       "            }\n",
       "        });\n",
       "        require(['plotly'], function(Plotly) {\n",
       "            window._Plotly = Plotly;\n",
       "        });\n",
       "        }\n",
       "        </script>\n",
       "        "
      ]
     },
     "metadata": {},
     "output_type": "display_data"
    },
    {
     "name": "stdout",
     "output_type": "stream",
     "text": [
      "Defaulting to user installation because normal site-packages is not writeable\n",
      "Requirement already satisfied: transformers in /usr/lib/python3.8/site-packages (4.1.1)\n",
      "Requirement already satisfied: filelock in /usr/lib/python3.8/site-packages (from transformers) (3.0.12)\n",
      "Requirement already satisfied: tqdm>=4.27 in /usr/lib/python3.8/site-packages (from transformers) (4.54.1)\n",
      "Requirement already satisfied: numpy in /usr/local/lib/python3.8/dist-packages (from transformers) (1.19.5)\n",
      "Requirement already satisfied: sacremoses in /usr/lib/python3.8/site-packages (from transformers) (0.0.43)\n",
      "Requirement already satisfied: requests in /storagenfs/g.pisciotta1/.local/lib/python3.8/site-packages (from transformers) (2.25.1)\n",
      "Requirement already satisfied: regex!=2019.12.17 in /usr/lib/python3.8/site-packages (from transformers) (2020.11.13)\n",
      "Requirement already satisfied: packaging in /usr/lib/python3.8/site-packages (from transformers) (20.9)\n",
      "Requirement already satisfied: tokenizers==0.9.4 in /usr/lib/python3.8/site-packages (from transformers) (0.9.4)\n",
      "Requirement already satisfied: pyparsing>=2.0.2 in /usr/lib/python3/dist-packages (from packaging->transformers) (2.4.6)\n",
      "Requirement already satisfied: idna<3,>=2.5 in /usr/lib/python3/dist-packages (from requests->transformers) (2.8)\n",
      "Requirement already satisfied: certifi>=2017.4.17 in /usr/lib/python3/dist-packages (from requests->transformers) (2019.11.28)\n",
      "Requirement already satisfied: chardet<5,>=3.0.2 in /usr/lib/python3/dist-packages (from requests->transformers) (3.0.4)\n",
      "Requirement already satisfied: urllib3<1.27,>=1.21.1 in /usr/lib/python3/dist-packages (from requests->transformers) (1.25.8)\n",
      "Requirement already satisfied: six in /usr/local/lib/python3.8/dist-packages (from sacremoses->transformers) (1.15.0)\n",
      "Requirement already satisfied: click in /usr/lib/python3/dist-packages (from sacremoses->transformers) (7.0)\n",
      "Requirement already satisfied: joblib in /usr/lib/python3.8/site-packages (from sacremoses->transformers) (1.0.0)\n"
     ]
    },
    {
     "name": "stderr",
     "output_type": "stream",
     "text": [
      "[nltk_data] Downloading package punkt to\n",
      "[nltk_data]     /storagenfs/g.pisciotta1/nltk_data...\n",
      "[nltk_data]   Package punkt is already up-to-date!\n"
     ]
    },
    {
     "data": {
      "text/plain": [
       "True"
      ]
     },
     "execution_count": 3,
     "metadata": {},
     "output_type": "execute_result"
    }
   ],
   "source": [
    "#!pip3 install pytorch\n",
    "!pip3 install multiprocess\n",
    "import torch\n",
    "torch.cuda.empty_cache()\n",
    "\n",
    "#!pip3 install sentence-transformers\n",
    "from sentence_transformers import SentenceTransformer\n",
    "from sentence_transformers import CrossEncoder\n",
    "from sentence_transformers.cross_encoder.evaluation import CECorrelationEvaluator, CEBinaryClassificationEvaluator\n",
    "from torch.utils.data import DataLoader\n",
    "import math\n",
    "import plotly\n",
    "import plotly.graph_objs as go\n",
    "import plotly.io as pio\n",
    "plotly.offline.init_notebook_mode(connected=True)\n",
    "import multiprocess as multiprocessing\n",
    "from sentence_transformers import LoggingHandler, util\n",
    "from sentence_transformers.cross_encoder import CrossEncoder\n",
    "from sentence_transformers.cross_encoder.evaluation import CECorrelationEvaluator\n",
    "from sentence_transformers import InputExample\n",
    "import logging\n",
    "!pip3 install transformers\n",
    "import json\n",
    "import pickle\n",
    "import numpy as np\n",
    "from tqdm.notebook import trange, tqdm\n",
    "from sklearn.preprocessing import StandardScaler\n",
    "from sklearn.linear_model import LogisticRegression, SGDClassifier\n",
    "from sklearn.metrics import precision_recall_curve\n",
    "from sklearn.metrics import roc_curve, auc\n",
    "from writeprints import get_writeprints_transformer, prepare_entry\n",
    "from utills import batch\n",
    "from pytorch_models import NeuralNet\n",
    "import torch\n",
    "import torch.nn as nn\n",
    "from torch.utils import data\n",
    "import copy\n",
    "from sklearn.model_selection import RandomizedSearchCV\n",
    "from scipy.stats import uniform\n",
    "from transformers import BertTokenizerFast\n",
    "import datetime\n",
    "import time\n",
    "from pan20_verif_evaluator import evaluate_all\n",
    "import nltk\n",
    "nltk.download('punkt')"
   ]
  },
  {
   "cell_type": "code",
   "execution_count": 4,
   "metadata": {},
   "outputs": [],
   "source": [
    "# Constants\n",
    "DATA_DIR = 'data/small/'\n",
    "TEMP_DATA_DIR = 'temp_data/pan20_computed/'"
   ]
  },
  {
   "cell_type": "markdown",
   "metadata": {},
   "source": [
    "Load ground truth\n",
    "===="
   ]
  },
  {
   "cell_type": "code",
   "execution_count": 6,
   "metadata": {},
   "outputs": [
    {
     "data": {
      "application/vnd.jupyter.widget-view+json": {
       "model_id": "efbbc1ad4ecb437b9f5dd3533db1dbbe",
       "version_major": 2,
       "version_minor": 0
      },
      "text/plain": [
       "HBox(children=(HTML(value=''), FloatProgress(value=1.0, bar_style='info', layout=Layout(width='20px'), max=1.0…"
      ]
     },
     "metadata": {},
     "output_type": "display_data"
    },
    {
     "name": "stdout",
     "output_type": "stream",
     "text": [
      "\n",
      "52601 10000 10000\n"
     ]
    }
   ],
   "source": [
    "# Load gound truth\n",
    "ground_truth = {}\n",
    "partition = {}\n",
    "\n",
    "#tot = 52601/3\n",
    "limited = False\n",
    "tot = 20000\n",
    "n_of_pos_we_want = tot/2\n",
    "n_of_neg_we_want = tot/2\n",
    "\n",
    "# quindi in totale 1_000\n",
    "positive_samples = 0\n",
    "negative_samples = 0\n",
    "total = 0\n",
    "\n",
    "# Qui apriamo il dataset e estraiamo un totale di 10k esempi del task\n",
    "with open(DATA_DIR + '/pan20-authorship-verification-training-small-truth.jsonl', 'r') as f:\n",
    "    \n",
    "    for counter, l in tqdm(enumerate(f)):\n",
    "        total += 1\n",
    "        \n",
    "        d = json.loads(l)\n",
    "\n",
    "        if d['same'] and positive_samples < n_of_pos_we_want : # se la label è true e dobbiamo ancora aggiungerne\n",
    "            ground_truth[d['id']] = d['same']\n",
    "            positive_samples += 1\n",
    "        elif not d['same'] and negative_samples < n_of_neg_we_want:\n",
    "            ground_truth[d['id']] = d['same']\n",
    "            negative_samples += 1\n",
    "            \n",
    "        # Una volta che abbiamo raggiunto il numero di dati che vogliamo, è fatta, usciamo\n",
    "        if limited and (positive_samples == n_of_pos_we_want and negative_samples == n_of_neg_we_want):\n",
    "            break\n",
    "            \n",
    "print(total, positive_samples, negative_samples)"
   ]
  },
  {
   "cell_type": "markdown",
   "metadata": {},
   "source": [
    "Partially extract features\n",
    "==="
   ]
  },
  {
   "cell_type": "code",
   "execution_count": 7,
   "metadata": {},
   "outputs": [
    {
     "name": "stdout",
     "output_type": "stream",
     "text": [
      "Started handling of each pair\n",
      "Ended handling of each pair\n",
      "Time spent:  219.119635\n"
     ]
    }
   ],
   "source": [
    "samples = multiprocessing.Manager().Queue()\n",
    "\n",
    "from sklearn.model_selection import train_test_split                 \n",
    "def process_pair(l):\n",
    "    d = json.loads(l)\n",
    "    if d['id'] in ground_truth:\n",
    "        e1 = prepare_entry(d['pair'][0])\n",
    "        e2 = prepare_entry(d['pair'][1])\n",
    "        samples.put({'id': d['id'], 'doc1': e1, 'doc2': e2})\n",
    "        return {'id': d['id'], 'doc1':e1, 'doc2':e2}    \n",
    "\n",
    "\n",
    "start_time = datetime.datetime.now()\n",
    "print(\"Started handling of each pair\")\n",
    "with open(DATA_DIR + 'pan20-authorship-verification-training-small.jsonl', 'r') as f:\n",
    "    with multiprocessing.Pool() as pool:\n",
    "        samples = pool.map(process_pair, (l for l in f))\n",
    "print(\"Ended handling of each pair\")        \n",
    "\n",
    "end_time = datetime.datetime.now()\n",
    "print(\"Time spent: \", (end_time-start_time).total_seconds())\n",
    "\n"
   ]
  },
  {
   "cell_type": "markdown",
   "metadata": {},
   "source": [
    "Split dataset\n",
    "====="
   ]
  },
  {
   "cell_type": "code",
   "execution_count": 8,
   "metadata": {},
   "outputs": [],
   "source": [
    "labels = []\n",
    "\n",
    "# Il processo in parallelo restituisce comunque eventualmente dei None se \n",
    "# il sample non appartiene alla lista di quelli che abbiamo selezionato,\n",
    "# quindi nel caso rimuoviamo i None così\n",
    "samples = [i for i in samples if i is not None]\n",
    "\n",
    "for s in samples:\n",
    "    # Qui non dovrebbe arrivare\n",
    "    if s is None:\n",
    "        print(\"None\")\n",
    "        break\n",
    "        \n",
    "    # Questo dovrebbe essere il caso normale\n",
    "    else:\n",
    "        s['label'] = int(ground_truth[s['id']])\n",
    "\n",
    "import pandas as pd\n",
    "df = pd.DataFrame(samples)\n",
    "df = df.set_index('id')\n",
    "\n",
    "X_design, X_test, y_design, y_test = train_test_split(df, df['label'], stratify=df['label'], random_state=42)\n",
    "X_train, X_valid, y_train, y_valid = train_test_split(X_design, y_design, stratify=y_design, random_state=42)\n",
    "\n",
    "# Per salvare\n",
    "X_test.to_pickle(TEMP_DATA_DIR+\"x_test.pkl\")\n",
    "X_valid.to_pickle(TEMP_DATA_DIR+\"x_valid.pkl\")\n",
    "X_train.to_pickle(TEMP_DATA_DIR+\"x_train.pkl\")\n",
    "df.to_pickle(TEMP_DATA_DIR+\"df.pkl\")\n"
   ]
  },
  {
   "cell_type": "code",
   "execution_count": 9,
   "metadata": {},
   "outputs": [
    {
     "data": {
      "text/html": [
       "<div>\n",
       "<style scoped>\n",
       "    .dataframe tbody tr th:only-of-type {\n",
       "        vertical-align: middle;\n",
       "    }\n",
       "\n",
       "    .dataframe tbody tr th {\n",
       "        vertical-align: top;\n",
       "    }\n",
       "\n",
       "    .dataframe thead th {\n",
       "        text-align: right;\n",
       "    }\n",
       "</style>\n",
       "<table border=\"1\" class=\"dataframe\">\n",
       "  <thead>\n",
       "    <tr style=\"text-align: right;\">\n",
       "      <th></th>\n",
       "      <th>doc1</th>\n",
       "      <th>doc2</th>\n",
       "      <th>label</th>\n",
       "    </tr>\n",
       "    <tr>\n",
       "      <th>id</th>\n",
       "      <th></th>\n",
       "      <th></th>\n",
       "      <th></th>\n",
       "    </tr>\n",
       "  </thead>\n",
       "  <tbody>\n",
       "    <tr>\n",
       "      <th>6cced668-6e51-5212-873c-717f2bc91ce6</th>\n",
       "      <td>{'preprocessed': 'I shift a bit, warily lettin...</td>\n",
       "      <td>{'preprocessed': '\"All will become one with Ru...</td>\n",
       "      <td>1</td>\n",
       "    </tr>\n",
       "    <tr>\n",
       "      <th>3c6c188a-db28-59aa-8c09-3d0f799ff579</th>\n",
       "      <td>{'preprocessed': 'I shift a bit, warily lettin...</td>\n",
       "      <td>{'preprocessed': 'Suddenly, a piece of ice fal...</td>\n",
       "      <td>1</td>\n",
       "    </tr>\n",
       "    <tr>\n",
       "      <th>b0cfa94f-c9ec-5aa5-8331-a5a249b664cf</th>\n",
       "      <td>{'preprocessed': 'A single tear escaped me as ...</td>\n",
       "      <td>{'preprocessed': 'got the Yang yoyo.\" Kimiko p...</td>\n",
       "      <td>1</td>\n",
       "    </tr>\n",
       "    <tr>\n",
       "      <th>e6e86e73-9a7b-58f2-a652-a17b4a1bcabf</th>\n",
       "      <td>{'preprocessed': '\"Ja.\" Ludwig kept his gaze u...</td>\n",
       "      <td>{'preprocessed': 'SilverGray lll...YellowRagge...</td>\n",
       "      <td>1</td>\n",
       "    </tr>\n",
       "    <tr>\n",
       "      <th>4fe541af-912e-5a86-81a5-94c6d3891509</th>\n",
       "      <td>{'preprocessed': 'And he did. Slowly, hesitant...</td>\n",
       "      <td>{'preprocessed': '\"Let\"s go,\" Raimondo said an...</td>\n",
       "      <td>1</td>\n",
       "    </tr>\n",
       "    <tr>\n",
       "      <th>...</th>\n",
       "      <td>...</td>\n",
       "      <td>...</td>\n",
       "      <td>...</td>\n",
       "    </tr>\n",
       "    <tr>\n",
       "      <th>d244814f-fbf1-5db4-a40c-b973b08ac9f8</th>\n",
       "      <td>{'preprocessed': 'He had a nice voice. Althoug...</td>\n",
       "      <td>{'preprocessed': 'trusty goose-down pillow. Ra...</td>\n",
       "      <td>0</td>\n",
       "    </tr>\n",
       "    <tr>\n",
       "      <th>a04024b3-2fba-5ee3-ab06-dac5c10301b6</th>\n",
       "      <td>{'preprocessed': 'I can be with you until 9 p....</td>\n",
       "      <td>{'preprocessed': '\"She likes him more than you...</td>\n",
       "      <td>0</td>\n",
       "    </tr>\n",
       "    <tr>\n",
       "      <th>4c5e5e32-79fe-5239-ae1e-a295ca20f6c0</th>\n",
       "      <td>{'preprocessed': 'To help us most to grow If w...</td>\n",
       "      <td>{'preprocessed': 'Onward to the next chapter, ...</td>\n",
       "      <td>0</td>\n",
       "    </tr>\n",
       "    <tr>\n",
       "      <th>fb7abb4c-c464-5f4e-9366-a594a231cbdf</th>\n",
       "      <td>{'preprocessed': '\"Amy\"s house?\" Ken gave him ...</td>\n",
       "      <td>{'preprocessed': '\"It\"s nothing. We we\"re just...</td>\n",
       "      <td>0</td>\n",
       "    </tr>\n",
       "    <tr>\n",
       "      <th>8f3b092e-fd73-5d57-91d2-3dc2282ea569</th>\n",
       "      <td>{'preprocessed': 'I like her. Are you happy no...</td>\n",
       "      <td>{'preprocessed': 'Mort and I have also welcome...</td>\n",
       "      <td>0</td>\n",
       "    </tr>\n",
       "  </tbody>\n",
       "</table>\n",
       "<p>20000 rows × 3 columns</p>\n",
       "</div>"
      ],
      "text/plain": [
       "                                                                                   doc1  \\\n",
       "id                                                                                        \n",
       "6cced668-6e51-5212-873c-717f2bc91ce6  {'preprocessed': 'I shift a bit, warily lettin...   \n",
       "3c6c188a-db28-59aa-8c09-3d0f799ff579  {'preprocessed': 'I shift a bit, warily lettin...   \n",
       "b0cfa94f-c9ec-5aa5-8331-a5a249b664cf  {'preprocessed': 'A single tear escaped me as ...   \n",
       "e6e86e73-9a7b-58f2-a652-a17b4a1bcabf  {'preprocessed': '\"Ja.\" Ludwig kept his gaze u...   \n",
       "4fe541af-912e-5a86-81a5-94c6d3891509  {'preprocessed': 'And he did. Slowly, hesitant...   \n",
       "...                                                                                 ...   \n",
       "d244814f-fbf1-5db4-a40c-b973b08ac9f8  {'preprocessed': 'He had a nice voice. Althoug...   \n",
       "a04024b3-2fba-5ee3-ab06-dac5c10301b6  {'preprocessed': 'I can be with you until 9 p....   \n",
       "4c5e5e32-79fe-5239-ae1e-a295ca20f6c0  {'preprocessed': 'To help us most to grow If w...   \n",
       "fb7abb4c-c464-5f4e-9366-a594a231cbdf  {'preprocessed': '\"Amy\"s house?\" Ken gave him ...   \n",
       "8f3b092e-fd73-5d57-91d2-3dc2282ea569  {'preprocessed': 'I like her. Are you happy no...   \n",
       "\n",
       "                                                                                   doc2  \\\n",
       "id                                                                                        \n",
       "6cced668-6e51-5212-873c-717f2bc91ce6  {'preprocessed': '\"All will become one with Ru...   \n",
       "3c6c188a-db28-59aa-8c09-3d0f799ff579  {'preprocessed': 'Suddenly, a piece of ice fal...   \n",
       "b0cfa94f-c9ec-5aa5-8331-a5a249b664cf  {'preprocessed': 'got the Yang yoyo.\" Kimiko p...   \n",
       "e6e86e73-9a7b-58f2-a652-a17b4a1bcabf  {'preprocessed': 'SilverGray lll...YellowRagge...   \n",
       "4fe541af-912e-5a86-81a5-94c6d3891509  {'preprocessed': '\"Let\"s go,\" Raimondo said an...   \n",
       "...                                                                                 ...   \n",
       "d244814f-fbf1-5db4-a40c-b973b08ac9f8  {'preprocessed': 'trusty goose-down pillow. Ra...   \n",
       "a04024b3-2fba-5ee3-ab06-dac5c10301b6  {'preprocessed': '\"She likes him more than you...   \n",
       "4c5e5e32-79fe-5239-ae1e-a295ca20f6c0  {'preprocessed': 'Onward to the next chapter, ...   \n",
       "fb7abb4c-c464-5f4e-9366-a594a231cbdf  {'preprocessed': '\"It\"s nothing. We we\"re just...   \n",
       "8f3b092e-fd73-5d57-91d2-3dc2282ea569  {'preprocessed': 'Mort and I have also welcome...   \n",
       "\n",
       "                                      label  \n",
       "id                                           \n",
       "6cced668-6e51-5212-873c-717f2bc91ce6      1  \n",
       "3c6c188a-db28-59aa-8c09-3d0f799ff579      1  \n",
       "b0cfa94f-c9ec-5aa5-8331-a5a249b664cf      1  \n",
       "e6e86e73-9a7b-58f2-a652-a17b4a1bcabf      1  \n",
       "4fe541af-912e-5a86-81a5-94c6d3891509      1  \n",
       "...                                     ...  \n",
       "d244814f-fbf1-5db4-a40c-b973b08ac9f8      0  \n",
       "a04024b3-2fba-5ee3-ab06-dac5c10301b6      0  \n",
       "4c5e5e32-79fe-5239-ae1e-a295ca20f6c0      0  \n",
       "fb7abb4c-c464-5f4e-9366-a594a231cbdf      0  \n",
       "8f3b092e-fd73-5d57-91d2-3dc2282ea569      0  \n",
       "\n",
       "[20000 rows x 3 columns]"
      ]
     },
     "execution_count": 9,
     "metadata": {},
     "output_type": "execute_result"
    }
   ],
   "source": [
    "df"
   ]
  },
  {
   "cell_type": "markdown",
   "metadata": {},
   "source": [
    "Embedding Model\n",
    "===\n"
   ]
  },
  {
   "cell_type": "markdown",
   "metadata": {},
   "source": [
    "## Load the dataset made of pairs of documents"
   ]
  },
  {
   "cell_type": "code",
   "execution_count": 9,
   "metadata": {},
   "outputs": [],
   "source": [
    "train_samples = []\n",
    "valid_samples = []\n",
    "test_samples = []\n",
    "\n",
    "for i, row_dict in X_train.iterrows():\n",
    "    train_samples.append(InputExample(texts=[row_dict['doc1']['preprocessed'], row_dict['doc2']['preprocessed']], label=int(ground_truth[i])))\n",
    "    #train_samples.append(InputExample(texts=[row_dict['doc2']['preprocessed'], row_dict['doc1']['preprocessed']], label=int(ground_truth[i])))\n",
    "\n",
    "for i, row_dict in X_valid.iterrows():\n",
    "    valid_samples.append(InputExample(texts=[row_dict['doc1']['preprocessed'], row_dict['doc2']['preprocessed']], label=int(ground_truth[i])))\n",
    "\n",
    "for i, row_dict in X_test.iterrows():\n",
    "    test_samples.append(InputExample(texts=[row_dict['doc1']['preprocessed'], row_dict['doc2']['preprocessed']], label=int(ground_truth[i])))"
   ]
  },
  {
   "cell_type": "markdown",
   "metadata": {},
   "source": [
    "## Test pretrained Cross-Encoder model"
   ]
  },
  {
   "cell_type": "code",
   "execution_count": null,
   "metadata": {},
   "outputs": [],
   "source": [
    "\"\"\"model_save_path = 'output/training_stsbenchmark-'+datetime.datetime.now().strftime(\"%Y-%m-%d_%H-%M-%S\")\n",
    "model_name = 'cross-encoder/stsb-TinyBERT-L-4'\n",
    "model = CrossEncoder(model_name, num_labels=1,device='cuda')\n",
    "\n",
    "y_pred = []\n",
    "\n",
    "for row_dict in X_test.to_dict(orient=\"records\"):\n",
    "    y_pred.append(\n",
    "        model.predict(\n",
    "            [row_dict['doc1'], row_dict['doc2']]\n",
    "        )\n",
    "    )\n",
    "\n",
    "print(evaluate_all(y_test, y_pred))\"\"\""
   ]
  },
  {
   "cell_type": "markdown",
   "metadata": {},
   "source": [
    "## Fine tune pretrained Cross-Encoder model on our dataset"
   ]
  },
  {
   "cell_type": "code",
   "execution_count": 10,
   "metadata": {},
   "outputs": [
    {
     "data": {
      "application/vnd.jupyter.widget-view+json": {
       "model_id": "3bfebb40d0a84ad3b4461702ce498066",
       "version_major": 2,
       "version_minor": 0
      },
      "text/plain": [
       "HBox(children=(HTML(value='Epoch'), FloatProgress(value=0.0, max=50.0), HTML(value='')))"
      ]
     },
     "metadata": {},
     "output_type": "display_data"
    },
    {
     "data": {
      "application/vnd.jupyter.widget-view+json": {
       "model_id": "a520e065094e4ecbb639da5c519e6db7",
       "version_major": 2,
       "version_minor": 0
      },
      "text/plain": [
       "HBox(children=(HTML(value='Iteration'), FloatProgress(value=0.0, max=2466.0), HTML(value='')))"
      ]
     },
     "metadata": {},
     "output_type": "display_data"
    },
    {
     "name": "stdout",
     "output_type": "stream",
     "text": [
      "\n"
     ]
    },
    {
     "data": {
      "application/vnd.jupyter.widget-view+json": {
       "model_id": "c3067a23049e4a18815b349e6e1f0a50",
       "version_major": 2,
       "version_minor": 0
      },
      "text/plain": [
       "HBox(children=(HTML(value='Iteration'), FloatProgress(value=0.0, max=2466.0), HTML(value='')))"
      ]
     },
     "metadata": {},
     "output_type": "display_data"
    },
    {
     "name": "stdout",
     "output_type": "stream",
     "text": [
      "\n"
     ]
    },
    {
     "data": {
      "application/vnd.jupyter.widget-view+json": {
       "model_id": "5964fac8d1774eca9c5c45e9c894a867",
       "version_major": 2,
       "version_minor": 0
      },
      "text/plain": [
       "HBox(children=(HTML(value='Iteration'), FloatProgress(value=0.0, max=2466.0), HTML(value='')))"
      ]
     },
     "metadata": {},
     "output_type": "display_data"
    },
    {
     "name": "stdout",
     "output_type": "stream",
     "text": [
      "\n"
     ]
    },
    {
     "data": {
      "application/vnd.jupyter.widget-view+json": {
       "model_id": "bf1146b15ea94421b37f55c9554568df",
       "version_major": 2,
       "version_minor": 0
      },
      "text/plain": [
       "HBox(children=(HTML(value='Iteration'), FloatProgress(value=0.0, max=2466.0), HTML(value='')))"
      ]
     },
     "metadata": {},
     "output_type": "display_data"
    },
    {
     "name": "stdout",
     "output_type": "stream",
     "text": [
      "\n"
     ]
    },
    {
     "data": {
      "application/vnd.jupyter.widget-view+json": {
       "model_id": "d19d3a74ef9947959a57921577abdce5",
       "version_major": 2,
       "version_minor": 0
      },
      "text/plain": [
       "HBox(children=(HTML(value='Iteration'), FloatProgress(value=0.0, max=2466.0), HTML(value='')))"
      ]
     },
     "metadata": {},
     "output_type": "display_data"
    },
    {
     "name": "stdout",
     "output_type": "stream",
     "text": [
      "\n"
     ]
    },
    {
     "data": {
      "application/vnd.jupyter.widget-view+json": {
       "model_id": "04daa0f23dc140e5a62eff64c6364520",
       "version_major": 2,
       "version_minor": 0
      },
      "text/plain": [
       "HBox(children=(HTML(value='Iteration'), FloatProgress(value=0.0, max=2466.0), HTML(value='')))"
      ]
     },
     "metadata": {},
     "output_type": "display_data"
    },
    {
     "name": "stdout",
     "output_type": "stream",
     "text": [
      "\n"
     ]
    },
    {
     "data": {
      "application/vnd.jupyter.widget-view+json": {
       "model_id": "dd17430db0f04906a912ae4eb80eba6f",
       "version_major": 2,
       "version_minor": 0
      },
      "text/plain": [
       "HBox(children=(HTML(value='Iteration'), FloatProgress(value=0.0, max=2466.0), HTML(value='')))"
      ]
     },
     "metadata": {},
     "output_type": "display_data"
    },
    {
     "name": "stdout",
     "output_type": "stream",
     "text": [
      "\n"
     ]
    },
    {
     "data": {
      "application/vnd.jupyter.widget-view+json": {
       "model_id": "e778ea88b6884db4918928b393a8f738",
       "version_major": 2,
       "version_minor": 0
      },
      "text/plain": [
       "HBox(children=(HTML(value='Iteration'), FloatProgress(value=0.0, max=2466.0), HTML(value='')))"
      ]
     },
     "metadata": {},
     "output_type": "display_data"
    },
    {
     "name": "stdout",
     "output_type": "stream",
     "text": [
      "\n"
     ]
    },
    {
     "data": {
      "application/vnd.jupyter.widget-view+json": {
       "model_id": "283bb40b37a0491bae5d64db7645b27d",
       "version_major": 2,
       "version_minor": 0
      },
      "text/plain": [
       "HBox(children=(HTML(value='Iteration'), FloatProgress(value=0.0, max=2466.0), HTML(value='')))"
      ]
     },
     "metadata": {},
     "output_type": "display_data"
    },
    {
     "name": "stdout",
     "output_type": "stream",
     "text": [
      "\n"
     ]
    },
    {
     "data": {
      "application/vnd.jupyter.widget-view+json": {
       "model_id": "76deeeaecacb49ebb9a8cee218b51f80",
       "version_major": 2,
       "version_minor": 0
      },
      "text/plain": [
       "HBox(children=(HTML(value='Iteration'), FloatProgress(value=0.0, max=2466.0), HTML(value='')))"
      ]
     },
     "metadata": {},
     "output_type": "display_data"
    },
    {
     "name": "stdout",
     "output_type": "stream",
     "text": [
      "\n"
     ]
    },
    {
     "data": {
      "application/vnd.jupyter.widget-view+json": {
       "model_id": "b7514699d93a4aefa067ff0bf0f083fd",
       "version_major": 2,
       "version_minor": 0
      },
      "text/plain": [
       "HBox(children=(HTML(value='Iteration'), FloatProgress(value=0.0, max=2466.0), HTML(value='')))"
      ]
     },
     "metadata": {},
     "output_type": "display_data"
    },
    {
     "name": "stdout",
     "output_type": "stream",
     "text": [
      "\n"
     ]
    },
    {
     "data": {
      "application/vnd.jupyter.widget-view+json": {
       "model_id": "813e3c8d455e421a8585731220bac186",
       "version_major": 2,
       "version_minor": 0
      },
      "text/plain": [
       "HBox(children=(HTML(value='Iteration'), FloatProgress(value=0.0, max=2466.0), HTML(value='')))"
      ]
     },
     "metadata": {},
     "output_type": "display_data"
    },
    {
     "name": "stdout",
     "output_type": "stream",
     "text": [
      "\n"
     ]
    },
    {
     "data": {
      "application/vnd.jupyter.widget-view+json": {
       "model_id": "7f16c10be61f40dfbab3fd6042dda596",
       "version_major": 2,
       "version_minor": 0
      },
      "text/plain": [
       "HBox(children=(HTML(value='Iteration'), FloatProgress(value=0.0, max=2466.0), HTML(value='')))"
      ]
     },
     "metadata": {},
     "output_type": "display_data"
    },
    {
     "name": "stdout",
     "output_type": "stream",
     "text": [
      "\n"
     ]
    },
    {
     "data": {
      "application/vnd.jupyter.widget-view+json": {
       "model_id": "0142ca2c973544279f307dbfb68ca0e0",
       "version_major": 2,
       "version_minor": 0
      },
      "text/plain": [
       "HBox(children=(HTML(value='Iteration'), FloatProgress(value=0.0, max=2466.0), HTML(value='')))"
      ]
     },
     "metadata": {},
     "output_type": "display_data"
    },
    {
     "name": "stdout",
     "output_type": "stream",
     "text": [
      "\n"
     ]
    },
    {
     "data": {
      "application/vnd.jupyter.widget-view+json": {
       "model_id": "7ce0001a9b3e483a8b99ed7209f67d10",
       "version_major": 2,
       "version_minor": 0
      },
      "text/plain": [
       "HBox(children=(HTML(value='Iteration'), FloatProgress(value=0.0, max=2466.0), HTML(value='')))"
      ]
     },
     "metadata": {},
     "output_type": "display_data"
    },
    {
     "name": "stdout",
     "output_type": "stream",
     "text": [
      "\n"
     ]
    },
    {
     "data": {
      "application/vnd.jupyter.widget-view+json": {
       "model_id": "1aafde99d9294505a414c64954aacf0f",
       "version_major": 2,
       "version_minor": 0
      },
      "text/plain": [
       "HBox(children=(HTML(value='Iteration'), FloatProgress(value=0.0, max=2466.0), HTML(value='')))"
      ]
     },
     "metadata": {},
     "output_type": "display_data"
    },
    {
     "name": "stdout",
     "output_type": "stream",
     "text": [
      "\n"
     ]
    },
    {
     "data": {
      "application/vnd.jupyter.widget-view+json": {
       "model_id": "fb513c4f9848460b8bc8b3b370ca33fd",
       "version_major": 2,
       "version_minor": 0
      },
      "text/plain": [
       "HBox(children=(HTML(value='Iteration'), FloatProgress(value=0.0, max=2466.0), HTML(value='')))"
      ]
     },
     "metadata": {},
     "output_type": "display_data"
    },
    {
     "name": "stdout",
     "output_type": "stream",
     "text": [
      "\n"
     ]
    },
    {
     "data": {
      "application/vnd.jupyter.widget-view+json": {
       "model_id": "12821634eff44cab83197c790a07cc29",
       "version_major": 2,
       "version_minor": 0
      },
      "text/plain": [
       "HBox(children=(HTML(value='Iteration'), FloatProgress(value=0.0, max=2466.0), HTML(value='')))"
      ]
     },
     "metadata": {},
     "output_type": "display_data"
    },
    {
     "name": "stdout",
     "output_type": "stream",
     "text": [
      "\n"
     ]
    },
    {
     "data": {
      "application/vnd.jupyter.widget-view+json": {
       "model_id": "48d86a7bcec44931a7b85e266e7d883b",
       "version_major": 2,
       "version_minor": 0
      },
      "text/plain": [
       "HBox(children=(HTML(value='Iteration'), FloatProgress(value=0.0, max=2466.0), HTML(value='')))"
      ]
     },
     "metadata": {},
     "output_type": "display_data"
    },
    {
     "name": "stdout",
     "output_type": "stream",
     "text": [
      "\n"
     ]
    },
    {
     "data": {
      "application/vnd.jupyter.widget-view+json": {
       "model_id": "392eb840671442809404a4f26c9b4b2c",
       "version_major": 2,
       "version_minor": 0
      },
      "text/plain": [
       "HBox(children=(HTML(value='Iteration'), FloatProgress(value=0.0, max=2466.0), HTML(value='')))"
      ]
     },
     "metadata": {},
     "output_type": "display_data"
    },
    {
     "name": "stdout",
     "output_type": "stream",
     "text": [
      "\n"
     ]
    },
    {
     "data": {
      "application/vnd.jupyter.widget-view+json": {
       "model_id": "02502aec1c0346d9ab80050fdd2ecc90",
       "version_major": 2,
       "version_minor": 0
      },
      "text/plain": [
       "HBox(children=(HTML(value='Iteration'), FloatProgress(value=0.0, max=2466.0), HTML(value='')))"
      ]
     },
     "metadata": {},
     "output_type": "display_data"
    },
    {
     "name": "stdout",
     "output_type": "stream",
     "text": [
      "\n"
     ]
    },
    {
     "data": {
      "application/vnd.jupyter.widget-view+json": {
       "model_id": "f41cbe3b639648d0b0b2f720d02860c2",
       "version_major": 2,
       "version_minor": 0
      },
      "text/plain": [
       "HBox(children=(HTML(value='Iteration'), FloatProgress(value=0.0, max=2466.0), HTML(value='')))"
      ]
     },
     "metadata": {},
     "output_type": "display_data"
    },
    {
     "name": "stdout",
     "output_type": "stream",
     "text": [
      "\n"
     ]
    },
    {
     "data": {
      "application/vnd.jupyter.widget-view+json": {
       "model_id": "36fb20551e8e4073be0ff07797e8f911",
       "version_major": 2,
       "version_minor": 0
      },
      "text/plain": [
       "HBox(children=(HTML(value='Iteration'), FloatProgress(value=0.0, max=2466.0), HTML(value='')))"
      ]
     },
     "metadata": {},
     "output_type": "display_data"
    },
    {
     "name": "stdout",
     "output_type": "stream",
     "text": [
      "\n"
     ]
    },
    {
     "data": {
      "application/vnd.jupyter.widget-view+json": {
       "model_id": "deeb805388bb45ebb1e0949dc58b6382",
       "version_major": 2,
       "version_minor": 0
      },
      "text/plain": [
       "HBox(children=(HTML(value='Iteration'), FloatProgress(value=0.0, max=2466.0), HTML(value='')))"
      ]
     },
     "metadata": {},
     "output_type": "display_data"
    },
    {
     "name": "stdout",
     "output_type": "stream",
     "text": [
      "\n"
     ]
    },
    {
     "data": {
      "application/vnd.jupyter.widget-view+json": {
       "model_id": "23117df2783646b0bbc407803afe5791",
       "version_major": 2,
       "version_minor": 0
      },
      "text/plain": [
       "HBox(children=(HTML(value='Iteration'), FloatProgress(value=0.0, max=2466.0), HTML(value='')))"
      ]
     },
     "metadata": {},
     "output_type": "display_data"
    },
    {
     "name": "stdout",
     "output_type": "stream",
     "text": [
      "\n"
     ]
    },
    {
     "data": {
      "application/vnd.jupyter.widget-view+json": {
       "model_id": "69d9a8970ef84925a40d77f272aaec83",
       "version_major": 2,
       "version_minor": 0
      },
      "text/plain": [
       "HBox(children=(HTML(value='Iteration'), FloatProgress(value=0.0, max=2466.0), HTML(value='')))"
      ]
     },
     "metadata": {},
     "output_type": "display_data"
    },
    {
     "name": "stdout",
     "output_type": "stream",
     "text": [
      "\n"
     ]
    },
    {
     "data": {
      "application/vnd.jupyter.widget-view+json": {
       "model_id": "cf3f0e89837e40979a81d672e0e5138f",
       "version_major": 2,
       "version_minor": 0
      },
      "text/plain": [
       "HBox(children=(HTML(value='Iteration'), FloatProgress(value=0.0, max=2466.0), HTML(value='')))"
      ]
     },
     "metadata": {},
     "output_type": "display_data"
    },
    {
     "name": "stdout",
     "output_type": "stream",
     "text": [
      "\n"
     ]
    },
    {
     "data": {
      "application/vnd.jupyter.widget-view+json": {
       "model_id": "d0fcbddc54e548bf86f5ec44e418ae5b",
       "version_major": 2,
       "version_minor": 0
      },
      "text/plain": [
       "HBox(children=(HTML(value='Iteration'), FloatProgress(value=0.0, max=2466.0), HTML(value='')))"
      ]
     },
     "metadata": {},
     "output_type": "display_data"
    },
    {
     "name": "stdout",
     "output_type": "stream",
     "text": [
      "\n"
     ]
    },
    {
     "data": {
      "application/vnd.jupyter.widget-view+json": {
       "model_id": "7d7b965a3da942bc9f873e3acf4beb74",
       "version_major": 2,
       "version_minor": 0
      },
      "text/plain": [
       "HBox(children=(HTML(value='Iteration'), FloatProgress(value=0.0, max=2466.0), HTML(value='')))"
      ]
     },
     "metadata": {},
     "output_type": "display_data"
    },
    {
     "name": "stdout",
     "output_type": "stream",
     "text": [
      "\n"
     ]
    },
    {
     "data": {
      "application/vnd.jupyter.widget-view+json": {
       "model_id": "f80544b706fd4f7eaefe25ea797ed07c",
       "version_major": 2,
       "version_minor": 0
      },
      "text/plain": [
       "HBox(children=(HTML(value='Iteration'), FloatProgress(value=0.0, max=2466.0), HTML(value='')))"
      ]
     },
     "metadata": {},
     "output_type": "display_data"
    },
    {
     "name": "stdout",
     "output_type": "stream",
     "text": [
      "\n"
     ]
    },
    {
     "data": {
      "application/vnd.jupyter.widget-view+json": {
       "model_id": "303bb393e8b342cd99ce018fd70ac77d",
       "version_major": 2,
       "version_minor": 0
      },
      "text/plain": [
       "HBox(children=(HTML(value='Iteration'), FloatProgress(value=0.0, max=2466.0), HTML(value='')))"
      ]
     },
     "metadata": {},
     "output_type": "display_data"
    },
    {
     "name": "stdout",
     "output_type": "stream",
     "text": [
      "\n"
     ]
    },
    {
     "data": {
      "application/vnd.jupyter.widget-view+json": {
       "model_id": "68e04b4d231745ad8f7de86a89f58df9",
       "version_major": 2,
       "version_minor": 0
      },
      "text/plain": [
       "HBox(children=(HTML(value='Iteration'), FloatProgress(value=0.0, max=2466.0), HTML(value='')))"
      ]
     },
     "metadata": {},
     "output_type": "display_data"
    },
    {
     "name": "stdout",
     "output_type": "stream",
     "text": [
      "\n"
     ]
    },
    {
     "data": {
      "application/vnd.jupyter.widget-view+json": {
       "model_id": "c1fcd83dda994fc0b131f2158f6b2f6b",
       "version_major": 2,
       "version_minor": 0
      },
      "text/plain": [
       "HBox(children=(HTML(value='Iteration'), FloatProgress(value=0.0, max=2466.0), HTML(value='')))"
      ]
     },
     "metadata": {},
     "output_type": "display_data"
    },
    {
     "name": "stdout",
     "output_type": "stream",
     "text": [
      "\n"
     ]
    },
    {
     "data": {
      "application/vnd.jupyter.widget-view+json": {
       "model_id": "f762d989d34845fc8e184a7b61f6c685",
       "version_major": 2,
       "version_minor": 0
      },
      "text/plain": [
       "HBox(children=(HTML(value='Iteration'), FloatProgress(value=0.0, max=2466.0), HTML(value='')))"
      ]
     },
     "metadata": {},
     "output_type": "display_data"
    },
    {
     "name": "stdout",
     "output_type": "stream",
     "text": [
      "\n"
     ]
    },
    {
     "data": {
      "application/vnd.jupyter.widget-view+json": {
       "model_id": "d07cd4310e1144aca042dced8da0e051",
       "version_major": 2,
       "version_minor": 0
      },
      "text/plain": [
       "HBox(children=(HTML(value='Iteration'), FloatProgress(value=0.0, max=2466.0), HTML(value='')))"
      ]
     },
     "metadata": {},
     "output_type": "display_data"
    },
    {
     "name": "stdout",
     "output_type": "stream",
     "text": [
      "\n"
     ]
    },
    {
     "data": {
      "application/vnd.jupyter.widget-view+json": {
       "model_id": "ff5c783b254d439c97d591a22b1f6183",
       "version_major": 2,
       "version_minor": 0
      },
      "text/plain": [
       "HBox(children=(HTML(value='Iteration'), FloatProgress(value=0.0, max=2466.0), HTML(value='')))"
      ]
     },
     "metadata": {},
     "output_type": "display_data"
    },
    {
     "name": "stdout",
     "output_type": "stream",
     "text": [
      "\n"
     ]
    },
    {
     "data": {
      "application/vnd.jupyter.widget-view+json": {
       "model_id": "da594e0fa1cc4a2eacd008c3aa501b05",
       "version_major": 2,
       "version_minor": 0
      },
      "text/plain": [
       "HBox(children=(HTML(value='Iteration'), FloatProgress(value=0.0, max=2466.0), HTML(value='')))"
      ]
     },
     "metadata": {},
     "output_type": "display_data"
    },
    {
     "name": "stdout",
     "output_type": "stream",
     "text": [
      "\n"
     ]
    },
    {
     "data": {
      "application/vnd.jupyter.widget-view+json": {
       "model_id": "70772282543d447bab58cd41834393fe",
       "version_major": 2,
       "version_minor": 0
      },
      "text/plain": [
       "HBox(children=(HTML(value='Iteration'), FloatProgress(value=0.0, max=2466.0), HTML(value='')))"
      ]
     },
     "metadata": {},
     "output_type": "display_data"
    },
    {
     "name": "stdout",
     "output_type": "stream",
     "text": [
      "\n"
     ]
    },
    {
     "data": {
      "application/vnd.jupyter.widget-view+json": {
       "model_id": "e00ea82e530a407cb1fe9efb874c0905",
       "version_major": 2,
       "version_minor": 0
      },
      "text/plain": [
       "HBox(children=(HTML(value='Iteration'), FloatProgress(value=0.0, max=2466.0), HTML(value='')))"
      ]
     },
     "metadata": {},
     "output_type": "display_data"
    },
    {
     "name": "stdout",
     "output_type": "stream",
     "text": [
      "\n"
     ]
    },
    {
     "data": {
      "application/vnd.jupyter.widget-view+json": {
       "model_id": "d2f93f7e0938403e98c7bbf6e223aec1",
       "version_major": 2,
       "version_minor": 0
      },
      "text/plain": [
       "HBox(children=(HTML(value='Iteration'), FloatProgress(value=0.0, max=2466.0), HTML(value='')))"
      ]
     },
     "metadata": {},
     "output_type": "display_data"
    },
    {
     "name": "stdout",
     "output_type": "stream",
     "text": [
      "\n"
     ]
    },
    {
     "data": {
      "application/vnd.jupyter.widget-view+json": {
       "model_id": "7c2f3034af454749b370e53ef60f7288",
       "version_major": 2,
       "version_minor": 0
      },
      "text/plain": [
       "HBox(children=(HTML(value='Iteration'), FloatProgress(value=0.0, max=2466.0), HTML(value='')))"
      ]
     },
     "metadata": {},
     "output_type": "display_data"
    },
    {
     "name": "stdout",
     "output_type": "stream",
     "text": [
      "\n"
     ]
    },
    {
     "data": {
      "application/vnd.jupyter.widget-view+json": {
       "model_id": "8bc2325bd250437e82d760a7216b118c",
       "version_major": 2,
       "version_minor": 0
      },
      "text/plain": [
       "HBox(children=(HTML(value='Iteration'), FloatProgress(value=0.0, max=2466.0), HTML(value='')))"
      ]
     },
     "metadata": {},
     "output_type": "display_data"
    },
    {
     "name": "stdout",
     "output_type": "stream",
     "text": [
      "\n"
     ]
    },
    {
     "data": {
      "application/vnd.jupyter.widget-view+json": {
       "model_id": "9cac781c25624fae91a7b637b6e5d3cf",
       "version_major": 2,
       "version_minor": 0
      },
      "text/plain": [
       "HBox(children=(HTML(value='Iteration'), FloatProgress(value=0.0, max=2466.0), HTML(value='')))"
      ]
     },
     "metadata": {},
     "output_type": "display_data"
    },
    {
     "name": "stdout",
     "output_type": "stream",
     "text": [
      "\n"
     ]
    },
    {
     "data": {
      "application/vnd.jupyter.widget-view+json": {
       "model_id": "8a4d2f1da26e4645bbaa15986c69ed15",
       "version_major": 2,
       "version_minor": 0
      },
      "text/plain": [
       "HBox(children=(HTML(value='Iteration'), FloatProgress(value=0.0, max=2466.0), HTML(value='')))"
      ]
     },
     "metadata": {},
     "output_type": "display_data"
    },
    {
     "name": "stdout",
     "output_type": "stream",
     "text": [
      "\n"
     ]
    },
    {
     "data": {
      "application/vnd.jupyter.widget-view+json": {
       "model_id": "84f8a0fa8f694ae98144ed1a1a87013c",
       "version_major": 2,
       "version_minor": 0
      },
      "text/plain": [
       "HBox(children=(HTML(value='Iteration'), FloatProgress(value=0.0, max=2466.0), HTML(value='')))"
      ]
     },
     "metadata": {},
     "output_type": "display_data"
    },
    {
     "name": "stdout",
     "output_type": "stream",
     "text": [
      "\n"
     ]
    },
    {
     "data": {
      "application/vnd.jupyter.widget-view+json": {
       "model_id": "769a8d8627d2456e9a15fdded7fd2920",
       "version_major": 2,
       "version_minor": 0
      },
      "text/plain": [
       "HBox(children=(HTML(value='Iteration'), FloatProgress(value=0.0, max=2466.0), HTML(value='')))"
      ]
     },
     "metadata": {},
     "output_type": "display_data"
    },
    {
     "name": "stdout",
     "output_type": "stream",
     "text": [
      "\n"
     ]
    },
    {
     "data": {
      "application/vnd.jupyter.widget-view+json": {
       "model_id": "7cc8a1f078c34fb7b604fde3438ba3c3",
       "version_major": 2,
       "version_minor": 0
      },
      "text/plain": [
       "HBox(children=(HTML(value='Iteration'), FloatProgress(value=0.0, max=2466.0), HTML(value='')))"
      ]
     },
     "metadata": {},
     "output_type": "display_data"
    },
    {
     "name": "stdout",
     "output_type": "stream",
     "text": [
      "\n"
     ]
    },
    {
     "data": {
      "application/vnd.jupyter.widget-view+json": {
       "model_id": "9680eee9f0304f32b6b4340c3fb45643",
       "version_major": 2,
       "version_minor": 0
      },
      "text/plain": [
       "HBox(children=(HTML(value='Iteration'), FloatProgress(value=0.0, max=2466.0), HTML(value='')))"
      ]
     },
     "metadata": {},
     "output_type": "display_data"
    },
    {
     "name": "stdout",
     "output_type": "stream",
     "text": [
      "\n"
     ]
    },
    {
     "data": {
      "application/vnd.jupyter.widget-view+json": {
       "model_id": "782a901fa24a43038df3e37d9e05d45c",
       "version_major": 2,
       "version_minor": 0
      },
      "text/plain": [
       "HBox(children=(HTML(value='Iteration'), FloatProgress(value=0.0, max=2466.0), HTML(value='')))"
      ]
     },
     "metadata": {},
     "output_type": "display_data"
    },
    {
     "name": "stdout",
     "output_type": "stream",
     "text": [
      "\n"
     ]
    },
    {
     "data": {
      "application/vnd.jupyter.widget-view+json": {
       "model_id": "6bb2745c61a040ceb8568608243f9dc0",
       "version_major": 2,
       "version_minor": 0
      },
      "text/plain": [
       "HBox(children=(HTML(value='Iteration'), FloatProgress(value=0.0, max=2466.0), HTML(value='')))"
      ]
     },
     "metadata": {},
     "output_type": "display_data"
    },
    {
     "name": "stdout",
     "output_type": "stream",
     "text": [
      "\n",
      "\n",
      "Evaluator:  0.7292112385639142\n",
      "{'auc': 0.747, 'c@1': 0.696, 'f_05_u': 0.706, 'F1': 0.727, 'overall': 0.719}\n"
     ]
    }
   ],
   "source": [
    "# Load previously trained model\n",
    "#model_name = 'output/training_stsbenchmark-2021-06-29_16-27-18'\n",
    "\n",
    "# Fine-tune model\n",
    "torch.cuda.empty_cache()\n",
    "train_batch_size = 12\n",
    "num_epochs = 50\n",
    "model_save_path = 'output/training_stsbenchmark-'+datetime.datetime.now().strftime(\"%Y-%m-%d_%H-%M-%S\")\n",
    "\n",
    "# We wrap train_samples (which is a List[InputExample]) into a pytorch DataLoader\n",
    "train_dataloader = DataLoader(train_samples, shuffle=True, batch_size=train_batch_size)\n",
    "\n",
    "# Load preloaded model\n",
    "model_name = 'cross-encoder/stsb-TinyBERT-L-4'\n",
    "model = CrossEncoder(model_name, num_labels=1, device='cuda')\n",
    "\n",
    "# We add an evaluator, which evaluates the performance during training\n",
    "evaluator = CEBinaryClassificationEvaluator.from_input_examples(valid_samples, name='sts-valid')\n",
    "\n",
    "warmup_steps = math.ceil(len(train_dataloader) * num_epochs * 0.1) #10% of train data for warm-up\n",
    "\n",
    "model.fit(train_dataloader=train_dataloader,\n",
    "          evaluator=evaluator,\n",
    "          epochs=num_epochs,\n",
    "          warmup_steps=warmup_steps,\n",
    "          output_path=model_save_path)\n",
    "\n",
    "##### Load model and eval on test set\n",
    "#model = CrossEncoder(model_save_path)\n",
    "evaluator = CEBinaryClassificationEvaluator.from_input_examples(test_samples, name='sts-test')\n",
    "\n",
    "print(\"Evaluator: \", evaluator(model))\n",
    "\n",
    "\n",
    "y_pred = []\n",
    "for row_dict in X_test.to_dict(orient=\"records\"):\n",
    "    y_pred.append(\n",
    "        model.predict(\n",
    "            [row_dict['doc1']['preprocessed'], row_dict['doc2']['preprocessed']]\n",
    "        )\n",
    "    )\n",
    "print(evaluate_all(y_test, y_pred))\n"
   ]
  },
  {
   "cell_type": "code",
   "execution_count": 11,
   "metadata": {},
   "outputs": [
    {
     "name": "stdout",
     "output_type": "stream",
     "text": [
      "              precision    recall  f1-score   support\n",
      "\n",
      "           0       0.70      0.62      0.66      6192\n",
      "           1       0.69      0.77      0.73      6959\n",
      "\n",
      "    accuracy                           0.70     13151\n",
      "   macro avg       0.70      0.69      0.69     13151\n",
      "weighted avg       0.70      0.70      0.69     13151\n",
      "\n"
     ]
    }
   ],
   "source": [
    "from sklearn.metrics import classification_report\n",
    "new_y_pred = []\n",
    "for y in y_pred:\n",
    "    new_y_pred.append(np.round(np.clip(y, 0, 1)))\n",
    "print(classification_report(y_test, new_y_pred))"
   ]
  }
 ],
 "metadata": {
  "kernelspec": {
   "display_name": "Python 3",
   "language": "python",
   "name": "python3"
  },
  "language_info": {
   "codemirror_mode": {
    "name": "ipython",
    "version": 3
   },
   "file_extension": ".py",
   "mimetype": "text/x-python",
   "name": "python",
   "nbconvert_exporter": "python",
   "pygments_lexer": "ipython3",
   "version": "3.8.10"
  }
 },
 "nbformat": 4,
 "nbformat_minor": 4
}
